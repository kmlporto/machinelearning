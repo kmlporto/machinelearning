{
  "nbformat": 4,
  "nbformat_minor": 0,
  "metadata": {
    "colab": {
      "name": "MLP.ipynb",
      "provenance": [],
      "authorship_tag": "ABX9TyO3lSUZfahbxQvanASyHdHo",
      "include_colab_link": true
    },
    "kernelspec": {
      "name": "python3",
      "display_name": "Python 3"
    }
  },
  "cells": [
    {
      "cell_type": "markdown",
      "metadata": {
        "id": "view-in-github",
        "colab_type": "text"
      },
      "source": [
        "<a href=\"https://colab.research.google.com/github/kmlporto/machinelearning/blob/master/MLP.ipynb\" target=\"_parent\"><img src=\"https://colab.research.google.com/assets/colab-badge.svg\" alt=\"Open In Colab\"/></a>"
      ]
    },
    {
      "cell_type": "code",
      "metadata": {
        "id": "CBtNjDD-6oJ9",
        "colab_type": "code",
        "colab": {}
      },
      "source": [
        "from sklearn.model_selection import train_test_split\n",
        "from sklearn import metrics\n",
        "import pandas as pd\n",
        "from sklearn.neural_network import MLPClassifier\n"
      ],
      "execution_count": 0,
      "outputs": []
    },
    {
      "cell_type": "code",
      "metadata": {
        "id": "eF86C26g6M1a",
        "colab_type": "code",
        "colab": {}
      },
      "source": [
        "# READ DATABASE\n",
        "# ========== ABALONE ===========\n",
        "url = \"https://raw.githubusercontent.com/kmlporto/machinelearning/master/database/abalone.data\"\n",
        "# cols\n",
        "col_names = ['label', 'x1', 'x2', 'x3', 'x4', 'x5', 'x6', 'x7', 'x8']\n",
        "feature_cols = ['x1', 'x2', 'x3', 'x4', 'x5', 'x6', 'x7', 'x8']\n"
      ],
      "execution_count": 0,
      "outputs": []
    },
    {
      "cell_type": "code",
      "metadata": {
        "id": "_Bfu86q86iXQ",
        "colab_type": "code",
        "colab": {}
      },
      "source": [
        "# READ DATABASE\n",
        "# ========== WINE ===========\n",
        "# READ DATABASE\n",
        "# url = \"https://raw.githubusercontent.com/kmlporto/machinelearning/master/database/wine.data\"\n",
        "# cols\n",
        "# col_names = ['label', 'x1', 'x2', 'x3', 'x4', 'x5', 'x6', 'x7', 'x8', 'x9', 'x10', 'x11', 'x12', 'x13']\n",
        "# feature_cols = ['x1', 'x2', 'x3', 'x4', 'x5', 'x6', 'x7', 'x8', 'x9', 'x10', 'x11', 'x12', 'x13']\n"
      ],
      "execution_count": 0,
      "outputs": []
    },
    {
      "cell_type": "code",
      "metadata": {
        "id": "KGZJ40jr6lOe",
        "colab_type": "code",
        "colab": {}
      },
      "source": [
        "dataset = pd.read_csv(url, header=None, names=col_names)\n",
        "\n",
        "x = dataset[feature_cols]\n",
        "y = dataset.label\n",
        "\n",
        "x_train, x_test, y_train, y_test = train_test_split(x, y, test_size=0.2, random_state=None, stratify=y) \n",
        "\n",
        "model = MLPClassifier(hidden_layer_sizes=(4, 2), activation='tanh',max_iter=2000)\n",
        "model = model.fit(x_train, y_train)"
      ],
      "execution_count": 0,
      "outputs": []
    },
    {
      "cell_type": "code",
      "metadata": {
        "id": "Y0uh-hRI64N0",
        "colab_type": "code",
        "colab": {
          "base_uri": "https://localhost:8080/",
          "height": 88
        },
        "outputId": "b089bae0-1bb4-4b47-8f4b-2062f97074b4"
      },
      "source": [
        "result = model.predict(x_test)\n",
        "acc = metrics.accuracy_score(result, y_test)\n",
        "show = round(acc * 100)\n",
        "print(\"{}%\".format(show))\n",
        "\n",
        "print(list(result))\n",
        "print(list(y_test))"
      ],
      "execution_count": 5,
      "outputs": [
        {
          "output_type": "stream",
          "text": [
            "54.0%\n",
            "['I', 'M', 'M', 'I', 'M', 'M', 'I', 'M', 'I', 'M', 'M', 'M', 'F', 'M', 'F', 'I', 'I', 'M', 'F', 'M', 'I', 'I', 'M', 'M', 'I', 'F', 'F', 'I', 'I', 'M', 'F', 'M', 'M', 'F', 'I', 'F', 'M', 'M', 'M', 'F', 'I', 'I', 'M', 'M', 'M', 'M', 'I', 'M', 'M', 'I', 'M', 'M', 'M', 'M', 'M', 'M', 'I', 'I', 'I', 'I', 'I', 'M', 'I', 'M', 'M', 'F', 'M', 'M', 'I', 'M', 'M', 'M', 'F', 'F', 'I', 'F', 'M', 'F', 'I', 'M', 'I', 'F', 'I', 'F', 'F', 'I', 'M', 'M', 'F', 'M', 'M', 'M', 'M', 'M', 'M', 'I', 'M', 'I', 'F', 'F', 'I', 'M', 'M', 'M', 'I', 'I', 'M', 'I', 'M', 'M', 'M', 'M', 'M', 'F', 'I', 'I', 'M', 'M', 'I', 'I', 'M', 'M', 'F', 'I', 'I', 'M', 'I', 'M', 'M', 'M', 'M', 'I', 'M', 'M', 'F', 'M', 'I', 'I', 'M', 'I', 'M', 'M', 'I', 'F', 'F', 'I', 'M', 'M', 'M', 'M', 'M', 'M', 'M', 'M', 'M', 'F', 'M', 'I', 'I', 'I', 'M', 'M', 'M', 'I', 'I', 'I', 'I', 'M', 'M', 'M', 'M', 'I', 'M', 'I', 'M', 'F', 'M', 'M', 'I', 'M', 'I', 'M', 'M', 'M', 'I', 'F', 'M', 'M', 'F', 'I', 'I', 'F', 'M', 'F', 'M', 'M', 'M', 'I', 'M', 'M', 'M', 'M', 'I', 'I', 'M', 'F', 'M', 'I', 'I', 'I', 'I', 'I', 'I', 'M', 'M', 'M', 'M', 'M', 'I', 'I', 'I', 'M', 'M', 'I', 'I', 'I', 'M', 'M', 'I', 'M', 'I', 'M', 'I', 'M', 'I', 'I', 'M', 'M', 'M', 'M', 'M', 'I', 'M', 'I', 'M', 'M', 'I', 'I', 'F', 'I', 'I', 'I', 'M', 'M', 'M', 'I', 'I', 'M', 'M', 'I', 'M', 'I', 'I', 'I', 'M', 'M', 'M', 'I', 'M', 'M', 'I', 'F', 'M', 'I', 'M', 'M', 'I', 'I', 'M', 'M', 'M', 'M', 'F', 'F', 'I', 'I', 'I', 'I', 'M', 'M', 'M', 'I', 'M', 'M', 'I', 'M', 'I', 'M', 'M', 'I', 'I', 'I', 'M', 'F', 'M', 'I', 'M', 'M', 'M', 'I', 'F', 'I', 'F', 'I', 'M', 'I', 'I', 'I', 'F', 'M', 'M', 'M', 'F', 'I', 'M', 'M', 'M', 'I', 'F', 'I', 'M', 'I', 'F', 'I', 'I', 'I', 'I', 'I', 'F', 'M', 'M', 'I', 'M', 'M', 'F', 'M', 'M', 'I', 'M', 'M', 'I', 'M', 'M', 'F', 'I', 'M', 'M', 'M', 'F', 'M', 'I', 'M', 'I', 'I', 'M', 'M', 'M', 'I', 'M', 'M', 'M', 'M', 'F', 'M', 'I', 'M', 'M', 'I', 'M', 'F', 'M', 'M', 'I', 'M', 'M', 'M', 'M', 'M', 'M', 'M', 'I', 'I', 'M', 'F', 'I', 'M', 'M', 'I', 'I', 'M', 'I', 'I', 'M', 'M', 'M', 'M', 'M', 'M', 'I', 'I', 'I', 'I', 'I', 'M', 'M', 'F', 'I', 'F', 'M', 'I', 'I', 'M', 'I', 'M', 'M', 'I', 'M', 'F', 'I', 'I', 'M', 'M', 'F', 'M', 'I', 'I', 'F', 'M', 'M', 'M', 'M', 'I', 'M', 'M', 'I', 'M', 'M', 'F', 'M', 'I', 'M', 'M', 'M', 'M', 'I', 'M', 'F', 'I', 'M', 'I', 'I', 'I', 'M', 'I', 'I', 'F', 'I', 'M', 'I', 'M', 'I', 'I', 'I', 'M', 'M', 'F', 'I', 'I', 'M', 'M', 'I', 'I', 'F', 'I', 'F', 'I', 'M', 'M', 'M', 'I', 'F', 'M', 'M', 'M', 'M', 'M', 'M', 'I', 'M', 'I', 'I', 'I', 'M', 'M', 'I', 'M', 'I', 'I', 'F', 'M', 'M', 'I', 'M', 'F', 'M', 'I', 'I', 'I', 'M', 'I', 'I', 'M', 'M', 'M', 'F', 'M', 'M', 'M', 'M', 'M', 'F', 'I', 'M', 'I', 'I', 'M', 'I', 'F', 'I', 'F', 'I', 'I', 'I', 'I', 'I', 'I', 'I', 'I', 'M', 'M', 'F', 'I', 'I', 'I', 'M', 'I', 'I', 'M', 'M', 'I', 'M', 'I', 'M', 'F', 'M', 'I', 'I', 'I', 'I', 'I', 'I', 'I', 'I', 'M', 'I', 'M', 'I', 'M', 'I', 'M', 'M', 'M', 'I', 'I', 'M', 'M', 'I', 'M', 'I', 'M', 'M', 'I', 'M', 'I', 'M', 'I', 'F', 'M', 'M', 'M', 'M', 'F', 'M', 'I', 'M', 'M', 'I', 'I', 'I', 'F', 'M', 'M', 'M', 'I', 'I', 'I', 'I', 'M', 'I', 'M', 'M', 'M', 'I', 'I', 'F', 'I', 'M', 'I', 'F', 'I', 'F', 'I', 'I', 'M', 'M', 'I', 'I', 'M', 'I', 'I', 'I', 'M', 'M', 'F', 'M', 'F', 'M', 'F', 'I', 'F', 'M', 'M', 'M', 'M', 'I', 'M', 'F', 'F', 'M', 'I', 'I', 'M', 'F', 'F', 'I', 'I', 'I', 'I', 'M', 'F', 'M', 'M', 'I', 'I', 'I', 'I', 'I', 'I', 'F', 'F', 'M', 'M', 'M', 'F', 'F', 'I', 'I', 'I', 'I', 'I', 'M', 'M', 'I', 'M', 'I', 'M', 'I', 'M', 'I', 'I', 'M', 'M', 'M', 'M', 'I', 'F', 'M', 'M', 'I', 'I', 'I', 'I', 'I', 'M', 'M', 'I', 'M', 'M', 'I', 'M', 'I', 'I', 'M', 'I', 'M', 'I', 'F', 'I', 'I', 'M', 'M', 'F', 'M', 'F', 'M', 'I', 'M', 'M', 'I', 'M', 'M', 'F', 'I', 'I', 'M', 'M', 'I', 'M', 'I', 'M', 'M', 'I', 'I', 'I', 'I', 'I', 'I', 'I', 'M', 'I', 'M', 'M', 'M', 'M', 'M', 'M', 'M', 'I', 'I', 'F', 'M', 'I', 'F', 'M', 'M', 'I', 'M', 'F', 'M', 'M', 'I', 'F', 'M', 'M', 'I', 'M', 'I', 'F', 'I', 'M', 'I', 'I', 'I', 'M', 'I', 'I', 'I', 'M', 'M', 'I', 'M', 'M', 'M', 'I', 'I', 'I', 'I', 'M', 'M', 'I', 'M', 'M', 'M', 'M', 'M', 'I', 'M', 'I', 'I', 'I', 'I', 'I', 'M', 'M', 'I', 'I', 'I', 'I', 'M', 'F', 'F', 'M', 'F', 'I', 'M', 'M']\n",
            "['I', 'M', 'M', 'I', 'M', 'M', 'I', 'F', 'I', 'M', 'F', 'M', 'F', 'I', 'M', 'I', 'I', 'M', 'F', 'F', 'I', 'I', 'F', 'M', 'I', 'M', 'F', 'F', 'I', 'F', 'F', 'M', 'M', 'M', 'I', 'F', 'M', 'F', 'I', 'M', 'M', 'I', 'F', 'I', 'M', 'M', 'I', 'F', 'M', 'F', 'F', 'F', 'F', 'F', 'F', 'F', 'I', 'M', 'I', 'I', 'F', 'M', 'F', 'M', 'M', 'F', 'M', 'F', 'F', 'F', 'M', 'F', 'M', 'M', 'F', 'M', 'F', 'M', 'F', 'F', 'F', 'F', 'M', 'M', 'F', 'I', 'F', 'M', 'F', 'F', 'F', 'M', 'I', 'F', 'F', 'F', 'I', 'I', 'M', 'F', 'M', 'F', 'M', 'I', 'M', 'I', 'F', 'M', 'F', 'F', 'I', 'M', 'M', 'M', 'I', 'I', 'M', 'M', 'I', 'F', 'F', 'F', 'F', 'I', 'F', 'F', 'I', 'M', 'M', 'M', 'F', 'I', 'F', 'M', 'M', 'M', 'I', 'I', 'M', 'M', 'F', 'I', 'I', 'F', 'F', 'I', 'F', 'I', 'M', 'M', 'M', 'M', 'M', 'F', 'F', 'M', 'F', 'F', 'I', 'M', 'F', 'F', 'M', 'I', 'F', 'I', 'M', 'F', 'F', 'M', 'F', 'F', 'M', 'M', 'F', 'M', 'F', 'M', 'I', 'F', 'I', 'M', 'F', 'M', 'I', 'M', 'M', 'M', 'F', 'I', 'I', 'M', 'M', 'M', 'M', 'M', 'M', 'I', 'I', 'I', 'F', 'M', 'I', 'F', 'M', 'F', 'I', 'I', 'I', 'M', 'M', 'M', 'I', 'I', 'F', 'F', 'M', 'M', 'M', 'I', 'I', 'M', 'M', 'I', 'I', 'I', 'F', 'M', 'I', 'M', 'I', 'M', 'F', 'M', 'I', 'I', 'I', 'F', 'M', 'F', 'M', 'M', 'I', 'F', 'M', 'F', 'I', 'I', 'M', 'I', 'I', 'M', 'F', 'F', 'F', 'M', 'I', 'F', 'I', 'F', 'M', 'I', 'I', 'I', 'I', 'F', 'F', 'M', 'F', 'F', 'I', 'F', 'F', 'I', 'I', 'F', 'I', 'I', 'F', 'M', 'F', 'M', 'M', 'F', 'F', 'M', 'I', 'F', 'M', 'M', 'F', 'M', 'F', 'M', 'I', 'M', 'M', 'M', 'M', 'I', 'M', 'I', 'M', 'F', 'F', 'M', 'F', 'F', 'M', 'I', 'M', 'I', 'F', 'I', 'F', 'M', 'I', 'I', 'M', 'M', 'F', 'M', 'F', 'I', 'F', 'F', 'M', 'I', 'M', 'I', 'M', 'M', 'M', 'I', 'M', 'I', 'I', 'I', 'F', 'M', 'F', 'F', 'M', 'F', 'M', 'F', 'F', 'I', 'F', 'I', 'I', 'F', 'M', 'F', 'M', 'F', 'F', 'M', 'F', 'M', 'I', 'F', 'I', 'I', 'I', 'M', 'M', 'M', 'I', 'F', 'M', 'F', 'F', 'F', 'I', 'M', 'F', 'I', 'I', 'M', 'M', 'F', 'I', 'M', 'F', 'M', 'F', 'M', 'F', 'M', 'F', 'M', 'M', 'M', 'I', 'F', 'F', 'F', 'I', 'F', 'M', 'M', 'F', 'I', 'F', 'F', 'F', 'M', 'I', 'I', 'I', 'I', 'I', 'M', 'I', 'M', 'I', 'M', 'M', 'M', 'I', 'M', 'I', 'F', 'I', 'M', 'I', 'F', 'I', 'I', 'M', 'F', 'F', 'M', 'I', 'I', 'M', 'M', 'F', 'M', 'M', 'I', 'F', 'I', 'I', 'M', 'F', 'F', 'I', 'I', 'M', 'I', 'F', 'M', 'I', 'F', 'F', 'I', 'M', 'M', 'F', 'I', 'M', 'I', 'I', 'M', 'I', 'F', 'I', 'I', 'I', 'I', 'I', 'M', 'I', 'M', 'I', 'I', 'F', 'F', 'M', 'I', 'F', 'M', 'F', 'I', 'M', 'M', 'F', 'I', 'M', 'F', 'M', 'I', 'M', 'M', 'F', 'M', 'F', 'I', 'I', 'I', 'F', 'M', 'I', 'M', 'I', 'I', 'F', 'F', 'M', 'M', 'I', 'M', 'M', 'M', 'I', 'M', 'M', 'I', 'M', 'F', 'M', 'M', 'F', 'M', 'F', 'F', 'F', 'F', 'F', 'I', 'I', 'I', 'I', 'M', 'M', 'M', 'I', 'F', 'I', 'I', 'I', 'I', 'M', 'I', 'I', 'I', 'F', 'M', 'I', 'I', 'I', 'I', 'M', 'I', 'I', 'F', 'F', 'I', 'F', 'M', 'M', 'M', 'I', 'F', 'I', 'M', 'I', 'F', 'I', 'M', 'I', 'M', 'M', 'I', 'I', 'F', 'M', 'F', 'M', 'M', 'M', 'F', 'M', 'F', 'I', 'F', 'F', 'M', 'M', 'I', 'M', 'F', 'M', 'I', 'F', 'M', 'M', 'F', 'M', 'F', 'F', 'I', 'I', 'F', 'I', 'I', 'I', 'F', 'F', 'F', 'F', 'I', 'I', 'I', 'I', 'M', 'I', 'M', 'F', 'M', 'I', 'I', 'F', 'I', 'M', 'I', 'F', 'I', 'M', 'F', 'I', 'I', 'I', 'M', 'M', 'M', 'I', 'M', 'F', 'F', 'F', 'M', 'F', 'M', 'M', 'F', 'I', 'M', 'M', 'F', 'F', 'M', 'I', 'F', 'M', 'F', 'F', 'F', 'F', 'M', 'M', 'F', 'I', 'I', 'I', 'I', 'F', 'M', 'M', 'M', 'F', 'I', 'M', 'I', 'M', 'F', 'F', 'M', 'M', 'F', 'I', 'M', 'F', 'M', 'M', 'I', 'I', 'I', 'M', 'I', 'M', 'M', 'I', 'M', 'I', 'F', 'I', 'I', 'F', 'F', 'M', 'M', 'I', 'F', 'M', 'F', 'I', 'I', 'M', 'I', 'I', 'M', 'M', 'I', 'I', 'M', 'I', 'I', 'I', 'I', 'M', 'M', 'M', 'I', 'M', 'I', 'I', 'F', 'M', 'F', 'F', 'M', 'M', 'I', 'M', 'I', 'I', 'M', 'M', 'F', 'I', 'I', 'M', 'M', 'I', 'M', 'M', 'M', 'F', 'M', 'I', 'I', 'M', 'M', 'M', 'M', 'M', 'F', 'M', 'F', 'I', 'M', 'F', 'F', 'M', 'I', 'F', 'F', 'F', 'I', 'I', 'F', 'I', 'F', 'M', 'M', 'F', 'M', 'I', 'M', 'M', 'I', 'M', 'F', 'I', 'M', 'M', 'M', 'I', 'I', 'F', 'F', 'I', 'F', 'M', 'F', 'M', 'M', 'F', 'M', 'M', 'I', 'I', 'I', 'I', 'F', 'I', 'F', 'M', 'M', 'F', 'M', 'F', 'M', 'F', 'F', 'M', 'M', 'I', 'I', 'M', 'F', 'I', 'F', 'I', 'I', 'M', 'F', 'F', 'F', 'M', 'I', 'M', 'F']\n"
          ],
          "name": "stdout"
        }
      ]
    }
  ]
}