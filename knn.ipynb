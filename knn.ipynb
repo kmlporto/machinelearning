{
  "nbformat": 4,
  "nbformat_minor": 0,
  "metadata": {
    "colab": {
      "name": "knn.ipynb",
      "provenance": [],
      "authorship_tag": "ABX9TyMBpuM7YgSmNOCvuwYrfwrO",
      "include_colab_link": true
    },
    "kernelspec": {
      "name": "python3",
      "display_name": "Python 3"
    }
  },
  "cells": [
    {
      "cell_type": "markdown",
      "metadata": {
        "id": "view-in-github",
        "colab_type": "text"
      },
      "source": [
        "<a href=\"https://colab.research.google.com/github/kmlporto/machinelearning/blob/master/knn.ipynb\" target=\"_parent\"><img src=\"https://colab.research.google.com/assets/colab-badge.svg\" alt=\"Open In Colab\"/></a>"
      ]
    },
    {
      "cell_type": "code",
      "metadata": {
        "id": "BCFZP5oOp1iI",
        "colab_type": "code",
        "colab": {}
      },
      "source": [
        "from sklearn.model_selection import train_test_split\n",
        "from sklearn import metrics\n",
        "import pandas as pd\n",
        "from sklearn.neighbors import KNeighborsClassifier\n",
        "import math\n",
        "import statistics\n",
        "import numpy\n",
        "from collections import Counter\n"
      ],
      "execution_count": 0,
      "outputs": []
    },
    {
      "cell_type": "code",
      "metadata": {
        "id": "4vfC4PgvqJMr",
        "colab_type": "code",
        "colab": {}
      },
      "source": [
        "# READ DATABASE\n",
        "# ========== ABALONE ===========\n",
        "url = \"https://raw.githubusercontent.com/kmlporto/machinelearning/master/database/abalone.data\"\n",
        "# cols\n",
        "col_names = ['label', 'x1', 'x2', 'x3', 'x4', 'x5', 'x6', 'x7', 'x8']\n",
        "feature_cols = ['x1', 'x2', 'x3', 'x4', 'x5', 'x6', 'x7', 'x8']\n"
      ],
      "execution_count": 0,
      "outputs": []
    },
    {
      "cell_type": "code",
      "metadata": {
        "id": "FO5NGHDwqMkU",
        "colab_type": "code",
        "colab": {}
      },
      "source": [
        "# READ DATABASE\n",
        "# ========== WINE ===========\n",
        "# READ DATABASE\n",
        "# url = \"https://raw.githubusercontent.com/kmlporto/machinelearning/master/database/wine.data\"\n",
        "# cols\n",
        "# col_names = ['label', 'x1', 'x2', 'x3', 'x4', 'x5', 'x6', 'x7', 'x8', 'x9', 'x10', 'x11', 'x12', 'x13']\n",
        "# feature_cols = ['x1', 'x2', 'x3', 'x4', 'x5', 'x6', 'x7', 'x8', 'x9', 'x10', 'x11', 'x12', 'x13']\n"
      ],
      "execution_count": 0,
      "outputs": []
    },
    {
      "cell_type": "code",
      "metadata": {
        "id": "lKgAzPB7qQcc",
        "colab_type": "code",
        "colab": {}
      },
      "source": [
        "dataset = pd.read_csv(url, header=None, names=col_names)\n",
        "\n",
        "x = dataset[feature_cols]\n",
        "y = dataset.label\n",
        "\n",
        "x_train, x_test, y_train, y_test = train_test_split(x, y, test_size=0.2, random_state=None, stratify=y) \n",
        "\n",
        "train_x = x_train.values.tolist()\n",
        "train_y = y_train.values.tolist()\n",
        "\n",
        "test_x = x_test.values.tolist()\n",
        "test_y = y_test.values.tolist()\n"
      ],
      "execution_count": 0,
      "outputs": []
    },
    {
      "cell_type": "code",
      "metadata": {
        "id": "F5oFTP36qRL3",
        "colab_type": "code",
        "colab": {
          "base_uri": "https://localhost:8080/",
          "height": 88
        },
        "outputId": "b0ee5c82-c67b-4a73-9be3-ce213364711a"
      },
      "source": [
        "K = 2\n",
        "resultKNN = []\n",
        "\n",
        "for i in range(len(test_x)):\n",
        "  \n",
        "  classe = knn(train_x, train_y, test_x[i], K)\n",
        "  resultKNN.append(classe)\n",
        "  \n",
        "acc = metrics.accuracy_score(resultKNN, test_y)\n",
        "show = round(acc * 100)\n",
        "print(\"{}%\".format(show))\n",
        "\n",
        "print(resultKNN)\n",
        "print(test_y)"
      ],
      "execution_count": 15,
      "outputs": [
        {
          "output_type": "stream",
          "text": [
            "48.0%\n",
            "['M', 'I', 'F', 'F', 'I', 'M', 'M', 'I', 'I', 'F', 'F', 'M', 'I', 'I', 'F', 'M', 'I', 'M', 'M', 'F', 'I', 'M', 'I', 'I', 'F', 'I', 'I', 'I', 'I', 'F', 'I', 'I', 'M', 'M', 'F', 'F', 'M', 'I', 'F', 'M', 'F', 'M', 'M', 'F', 'I', 'M', 'M', 'F', 'I', 'F', 'I', 'F', 'M', 'I', 'I', 'M', 'F', 'M', 'M', 'F', 'F', 'F', 'F', 'M', 'F', 'F', 'M', 'I', 'M', 'I', 'M', 'M', 'M', 'I', 'M', 'I', 'M', 'I', 'I', 'F', 'M', 'F', 'M', 'I', 'M', 'M', 'I', 'F', 'M', 'I', 'M', 'F', 'M', 'F', 'I', 'M', 'M', 'M', 'M', 'M', 'I', 'M', 'M', 'I', 'I', 'M', 'M', 'M', 'M', 'F', 'M', 'F', 'M', 'M', 'I', 'M', 'I', 'I', 'F', 'F', 'F', 'F', 'I', 'M', 'I', 'F', 'I', 'F', 'I', 'I', 'M', 'M', 'I', 'M', 'I', 'I', 'M', 'M', 'M', 'I', 'M', 'F', 'F', 'M', 'I', 'I', 'M', 'I', 'F', 'I', 'F', 'M', 'F', 'I', 'F', 'I', 'F', 'F', 'I', 'F', 'I', 'M', 'F', 'I', 'M', 'I', 'M', 'F', 'M', 'I', 'I', 'F', 'M', 'F', 'I', 'I', 'I', 'I', 'M', 'M', 'M', 'M', 'M', 'I', 'F', 'I', 'M', 'I', 'I', 'F', 'I', 'M', 'M', 'M', 'F', 'F', 'F', 'M', 'I', 'M', 'M', 'F', 'M', 'F', 'I', 'I', 'I', 'I', 'F', 'I', 'M', 'M', 'F', 'F', 'M', 'I', 'F', 'I', 'M', 'M', 'I', 'M', 'F', 'I', 'M', 'F', 'I', 'M', 'M', 'M', 'F', 'I', 'I', 'M', 'F', 'I', 'I', 'F', 'F', 'M', 'M', 'M', 'I', 'M', 'F', 'I', 'F', 'M', 'F', 'I', 'F', 'M', 'M', 'I', 'M', 'M', 'M', 'I', 'F', 'M', 'M', 'F', 'F', 'I', 'F', 'I', 'F', 'F', 'F', 'F', 'F', 'F', 'M', 'M', 'M', 'M', 'I', 'F', 'F', 'I', 'I', 'F', 'F', 'I', 'F', 'F', 'M', 'M', 'M', 'M', 'I', 'F', 'F', 'I', 'F', 'F', 'F', 'F', 'I', 'F', 'F', 'F', 'F', 'M', 'M', 'M', 'F', 'M', 'M', 'I', 'M', 'I', 'M', 'M', 'M', 'M', 'F', 'M', 'F', 'I', 'I', 'I', 'M', 'I', 'I', 'F', 'I', 'F', 'M', 'M', 'M', 'I', 'I', 'M', 'F', 'M', 'F', 'M', 'M', 'F', 'M', 'F', 'M', 'F', 'I', 'M', 'F', 'F', 'F', 'I', 'F', 'I', 'M', 'I', 'I', 'F', 'M', 'M', 'F', 'F', 'F', 'F', 'F', 'F', 'M', 'M', 'M', 'M', 'I', 'M', 'I', 'I', 'I', 'F', 'M', 'M', 'M', 'I', 'I', 'F', 'I', 'F', 'I', 'M', 'F', 'M', 'M', 'F', 'M', 'I', 'M', 'M', 'M', 'F', 'I', 'M', 'M', 'F', 'F', 'M', 'M', 'I', 'I', 'M', 'M', 'F', 'M', 'I', 'F', 'I', 'F', 'M', 'I', 'I', 'I', 'M', 'F', 'M', 'M', 'I', 'I', 'M', 'I', 'I', 'M', 'F', 'F', 'M', 'M', 'I', 'I', 'M', 'M', 'I', 'I', 'F', 'I', 'F', 'I', 'F', 'F', 'I', 'F', 'I', 'M', 'I', 'F', 'I', 'M', 'I', 'F', 'F', 'F', 'F', 'M', 'F', 'M', 'M', 'I', 'F', 'I', 'M', 'I', 'M', 'I', 'M', 'M', 'F', 'F', 'I', 'F', 'M', 'F', 'F', 'I', 'I', 'I', 'F', 'F', 'M', 'M', 'I', 'F', 'F', 'I', 'I', 'M', 'F', 'M', 'F', 'M', 'M', 'M', 'F', 'I', 'M', 'I', 'I', 'I', 'I', 'M', 'M', 'F', 'F', 'I', 'I', 'M', 'I', 'M', 'I', 'M', 'M', 'M', 'I', 'F', 'M', 'F', 'F', 'F', 'F', 'M', 'F', 'M', 'F', 'F', 'F', 'M', 'F', 'I', 'F', 'I', 'I', 'I', 'M', 'M', 'F', 'F', 'F', 'I', 'F', 'M', 'M', 'F', 'I', 'I', 'F', 'I', 'M', 'F', 'I', 'M', 'M', 'M', 'I', 'F', 'F', 'M', 'F', 'F', 'M', 'M', 'F', 'F', 'M', 'M', 'I', 'I', 'M', 'I', 'F', 'M', 'I', 'M', 'M', 'F', 'I', 'I', 'I', 'I', 'M', 'I', 'I', 'M', 'M', 'M', 'I', 'I', 'M', 'M', 'I', 'I', 'I', 'F', 'F', 'F', 'I', 'M', 'M', 'I', 'I', 'I', 'I', 'M', 'I', 'F', 'F', 'M', 'I', 'M', 'I', 'I', 'M', 'F', 'M', 'F', 'M', 'I', 'M', 'M', 'M', 'I', 'F', 'F', 'I', 'F', 'M', 'F', 'M', 'M', 'F', 'M', 'M', 'M', 'M', 'M', 'I', 'M', 'M', 'F', 'F', 'M', 'I', 'I', 'I', 'F', 'I', 'I', 'M', 'I', 'I', 'M', 'I', 'M', 'I', 'I', 'F', 'I', 'I', 'I', 'I', 'F', 'F', 'M', 'F', 'I', 'I', 'I', 'F', 'I', 'I', 'M', 'I', 'I', 'F', 'I', 'F', 'I', 'I', 'F', 'M', 'F', 'F', 'M', 'I', 'F', 'F', 'I', 'M', 'I', 'F', 'F', 'F', 'M', 'M', 'M', 'I', 'I', 'M', 'F', 'I', 'M', 'F', 'I', 'F', 'M', 'F', 'I', 'F', 'F', 'M', 'I', 'M', 'I', 'F', 'M', 'F', 'M', 'M', 'F', 'I', 'I', 'I', 'M', 'M', 'I', 'M', 'M', 'M', 'M', 'F', 'F', 'M', 'I', 'M', 'I', 'M', 'M', 'I', 'F', 'I', 'M', 'I', 'I', 'M', 'M', 'F', 'M', 'I', 'I', 'I', 'M', 'I', 'F', 'M', 'I', 'M', 'F', 'I', 'M', 'F', 'M', 'I', 'M', 'I', 'F', 'I', 'M', 'F', 'F', 'I', 'I', 'I', 'I', 'M', 'M', 'I', 'F', 'F', 'M', 'F', 'F', 'F', 'I', 'I', 'F', 'I', 'I', 'I', 'M', 'I', 'I', 'F', 'M', 'I', 'I', 'I', 'I', 'F', 'F', 'F', 'F', 'I', 'I', 'M', 'I', 'M', 'F', 'M', 'F', 'I', 'M', 'M', 'F', 'M', 'F', 'M', 'F', 'M', 'I', 'I', 'M', 'F', 'I', 'M', 'I', 'M', 'M', 'M', 'F', 'M', 'M', 'F', 'F', 'M', 'M', 'M']\n",
            "['M', 'I', 'F', 'F', 'M', 'M', 'I', 'I', 'I', 'F', 'F', 'F', 'F', 'M', 'F', 'F', 'F', 'I', 'M', 'M', 'I', 'F', 'F', 'M', 'F', 'I', 'I', 'M', 'I', 'I', 'M', 'I', 'M', 'F', 'F', 'F', 'F', 'I', 'M', 'I', 'F', 'I', 'M', 'F', 'I', 'M', 'I', 'M', 'F', 'I', 'I', 'M', 'M', 'I', 'I', 'M', 'M', 'M', 'F', 'F', 'F', 'M', 'M', 'F', 'M', 'I', 'F', 'I', 'M', 'I', 'F', 'M', 'I', 'I', 'F', 'I', 'M', 'M', 'F', 'F', 'I', 'F', 'F', 'F', 'F', 'M', 'I', 'M', 'F', 'I', 'F', 'M', 'F', 'F', 'F', 'F', 'M', 'M', 'M', 'F', 'I', 'F', 'F', 'I', 'I', 'I', 'F', 'M', 'M', 'M', 'M', 'M', 'M', 'F', 'I', 'F', 'I', 'I', 'M', 'I', 'F', 'I', 'M', 'M', 'I', 'I', 'I', 'I', 'I', 'I', 'I', 'F', 'I', 'M', 'I', 'F', 'F', 'I', 'F', 'I', 'M', 'I', 'M', 'M', 'M', 'I', 'M', 'I', 'I', 'M', 'I', 'F', 'M', 'M', 'M', 'I', 'M', 'M', 'M', 'I', 'I', 'F', 'M', 'I', 'F', 'I', 'F', 'F', 'M', 'F', 'I', 'F', 'I', 'M', 'M', 'F', 'I', 'I', 'F', 'M', 'M', 'M', 'I', 'F', 'F', 'I', 'M', 'I', 'I', 'F', 'M', 'F', 'M', 'I', 'M', 'I', 'M', 'M', 'I', 'M', 'F', 'M', 'M', 'F', 'I', 'F', 'I', 'I', 'M', 'I', 'F', 'M', 'M', 'F', 'I', 'F', 'M', 'F', 'M', 'M', 'I', 'I', 'M', 'M', 'M', 'M', 'I', 'M', 'M', 'M', 'F', 'I', 'M', 'F', 'F', 'M', 'I', 'M', 'M', 'F', 'M', 'F', 'I', 'F', 'M', 'I', 'I', 'M', 'F', 'F', 'I', 'I', 'F', 'I', 'M', 'F', 'M', 'I', 'M', 'F', 'M', 'M', 'I', 'M', 'I', 'M', 'F', 'I', 'F', 'F', 'F', 'M', 'M', 'M', 'I', 'I', 'I', 'F', 'F', 'F', 'F', 'F', 'M', 'I', 'F', 'M', 'F', 'I', 'M', 'M', 'I', 'F', 'M', 'I', 'F', 'M', 'M', 'I', 'I', 'M', 'M', 'M', 'F', 'F', 'M', 'F', 'F', 'F', 'F', 'I', 'F', 'I', 'F', 'M', 'M', 'I', 'I', 'I', 'M', 'I', 'M', 'I', 'F', 'M', 'M', 'I', 'I', 'F', 'F', 'F', 'I', 'I', 'F', 'F', 'M', 'M', 'M', 'I', 'F', 'M', 'M', 'F', 'I', 'I', 'I', 'F', 'I', 'M', 'F', 'I', 'I', 'I', 'F', 'M', 'I', 'F', 'M', 'M', 'M', 'F', 'M', 'I', 'M', 'F', 'M', 'F', 'M', 'I', 'I', 'M', 'M', 'I', 'M', 'I', 'F', 'F', 'M', 'F', 'I', 'F', 'F', 'I', 'M', 'M', 'F', 'M', 'I', 'F', 'M', 'M', 'F', 'I', 'F', 'F', 'I', 'M', 'F', 'F', 'F', 'M', 'M', 'I', 'M', 'F', 'I', 'M', 'M', 'M', 'M', 'F', 'M', 'M', 'M', 'I', 'I', 'F', 'I', 'F', 'I', 'I', 'M', 'I', 'I', 'I', 'F', 'F', 'M', 'M', 'M', 'I', 'I', 'I', 'M', 'I', 'I', 'M', 'I', 'M', 'I', 'F', 'M', 'M', 'M', 'F', 'I', 'I', 'M', 'I', 'F', 'F', 'F', 'M', 'I', 'F', 'M', 'M', 'M', 'M', 'I', 'F', 'I', 'F', 'M', 'I', 'F', 'M', 'F', 'F', 'M', 'I', 'M', 'M', 'M', 'M', 'F', 'M', 'I', 'F', 'M', 'M', 'I', 'M', 'M', 'I', 'I', 'M', 'F', 'M', 'F', 'M', 'F', 'M', 'F', 'I', 'I', 'F', 'F', 'F', 'M', 'F', 'I', 'M', 'M', 'M', 'I', 'M', 'F', 'I', 'M', 'I', 'M', 'M', 'M', 'I', 'M', 'F', 'F', 'F', 'F', 'M', 'F', 'M', 'F', 'F', 'M', 'F', 'F', 'F', 'M', 'M', 'I', 'I', 'I', 'M', 'M', 'M', 'F', 'M', 'I', 'F', 'F', 'I', 'F', 'I', 'I', 'F', 'M', 'F', 'M', 'I', 'F', 'F', 'F', 'M', 'F', 'M', 'F', 'F', 'I', 'M', 'M', 'F', 'I', 'M', 'F', 'I', 'M', 'F', 'I', 'F', 'F', 'I', 'F', 'F', 'F', 'I', 'M', 'I', 'M', 'F', 'I', 'F', 'F', 'M', 'F', 'I', 'F', 'M', 'M', 'I', 'I', 'I', 'M', 'M', 'M', 'I', 'F', 'I', 'I', 'I', 'I', 'I', 'M', 'M', 'F', 'M', 'M', 'I', 'I', 'F', 'I', 'F', 'F', 'M', 'M', 'F', 'I', 'M', 'M', 'F', 'M', 'F', 'F', 'M', 'M', 'M', 'M', 'I', 'I', 'M', 'M', 'M', 'F', 'M', 'I', 'M', 'F', 'M', 'F', 'M', 'M', 'I', 'I', 'I', 'I', 'I', 'M', 'F', 'I', 'M', 'I', 'M', 'F', 'I', 'I', 'F', 'I', 'M', 'I', 'I', 'M', 'M', 'F', 'M', 'M', 'I', 'I', 'F', 'M', 'I', 'F', 'I', 'F', 'M', 'I', 'F', 'I', 'I', 'M', 'M', 'F', 'M', 'M', 'I', 'I', 'I', 'F', 'I', 'I', 'M', 'F', 'F', 'F', 'I', 'F', 'F', 'I', 'F', 'M', 'I', 'F', 'M', 'M', 'F', 'M', 'F', 'M', 'F', 'F', 'F', 'I', 'M', 'M', 'F', 'M', 'F', 'M', 'I', 'I', 'I', 'I', 'M', 'F', 'F', 'M', 'M', 'M', 'M', 'F', 'M', 'M', 'I', 'F', 'M', 'I', 'M', 'M', 'I', 'I', 'I', 'I', 'I', 'I', 'F', 'M', 'I', 'M', 'M', 'M', 'I', 'F', 'I', 'M', 'F', 'F', 'M', 'M', 'M', 'F', 'M', 'F', 'I', 'I', 'F', 'F', 'F', 'F', 'I', 'M', 'F', 'I', 'I', 'I', 'M', 'F', 'I', 'F', 'M', 'M', 'F', 'M', 'F', 'I', 'I', 'M', 'F', 'M', 'I', 'F', 'F', 'M', 'I', 'M', 'I', 'I', 'I', 'I', 'I', 'F', 'I', 'F', 'I', 'F', 'M', 'F', 'I', 'M', 'I', 'M', 'I', 'M', 'I', 'F', 'M', 'M', 'M', 'F', 'M', 'I', 'I', 'I', 'M', 'I', 'M', 'M', 'M', 'I', 'I', 'M', 'M', 'F', 'F', 'F', 'M', 'F', 'F']\n"
          ],
          "name": "stdout"
        }
      ]
    },
    {
      "cell_type": "code",
      "metadata": {
        "id": "2Gvy8J6yuRFC",
        "colab_type": "code",
        "colab": {}
      },
      "source": [
        "def moda(data):\n",
        "  data = iter(data)\n",
        "  pairs = Counter(data).most_common(1)\n",
        "  try:\n",
        "    return pairs[0][0]\n",
        "  except IndexError:\n",
        "    raise StatisticsError('no mode for empty data') from None\n",
        "\n",
        "def knn(train_x, train_y, test, k):\n",
        "  results = []\n",
        "  \n",
        "  for i in range(0,len(train_x)):\n",
        "    r = 0\n",
        "    \n",
        "    for j in range(0,len(test)):\n",
        "      r += (test[j] - train_x[i][j]) ** 2 # Distância Euclidiana\n",
        "    \n",
        "    results.append(math.sqrt(r)) # Distância Euclidiana\n",
        "    \n",
        "  indexes = numpy.argsort(results) # retorna os índices ordenados\n",
        "  \n",
        "  indexes = indexes[0:k] # Pega os k índices mais próximos\n",
        "  \n",
        "  res = [train_y[i] for i in indexes] # Retorna a classe de cada um dos vizinhos\n",
        "  \n",
        "  return moda(res) # retorna a classe com maior frequência"
      ],
      "execution_count": 0,
      "outputs": []
    }
  ]
}