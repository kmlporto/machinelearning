{
  "nbformat": 4,
  "nbformat_minor": 0,
  "metadata": {
    "colab": {
      "name": "project.ipynb",
      "provenance": [],
      "include_colab_link": true
    },
    "kernelspec": {
      "display_name": "PyCharm (machinelearning)",
      "language": "python",
      "name": "pycharm-7e04e175"
    },
    "language_info": {
      "codemirror_mode": {
        "name": "ipython",
        "version": 3
      },
      "file_extension": ".py",
      "mimetype": "text/x-python",
      "name": "python",
      "nbconvert_exporter": "python",
      "pygments_lexer": "ipython3",
      "version": "3.7.5"
    },
    "pycharm": {
      "stem_cell": {
        "cell_type": "raw",
        "metadata": {
          "collapsed": false
        },
        "source": []
      }
    }
  },
  "cells": [
    {
      "cell_type": "markdown",
      "metadata": {
        "id": "view-in-github",
        "colab_type": "text"
      },
      "source": [
        "<a href=\"https://colab.research.google.com/github/kmlporto/machinelearning/blob/datasets/project.ipynb\" target=\"_parent\"><img src=\"https://colab.research.google.com/assets/colab-badge.svg\" alt=\"Open In Colab\"/></a>"
      ]
    },
    {
      "cell_type": "code",
      "metadata": {
        "colab_type": "code",
        "id": "QDUusTuD7S63",
        "pycharm": {
          "is_executing": false
        },
        "colab": {}
      },
      "source": [
        "import pandas as pd\n",
        "import math\n",
        "import statistics\n",
        "import numpy as np\n",
        "import matplotlib.pyplot as plt\n",
        "from sklearn import tree\n",
        "from sklearn import metrics\n",
        "from sklearn.model_selection import train_test_split\n",
        "from sklearn.neighbors import KNeighborsClassifier\n",
        "from sklearn.neural_network import MLPClassifier\n",
        "from collections import Counter\n",
        "from sklearn.model_selection import cross_val_score\n",
        "from sklearn import datasets\n",
        "from sklearn.model_selection import StratifiedKFold"
      ],
      "execution_count": 0,
      "outputs": []
    },
    {
      "cell_type": "code",
      "metadata": {
        "pycharm": {
          "is_executing": false,
          "name": "#%%\n"
        },
        "id": "UyAOUDvP3csl",
        "colab_type": "code",
        "colab": {}
      },
      "source": [
        "\n",
        "def cross_validation(X, y, classifier):\n",
        "    skf = StratifiedKFold(n_splits=5)\n",
        "    acc_sum = 0\n",
        "    for train, test in skf.split(X, y):\n",
        "        acc_sum += get_accuracy(X.loc[train, :], X.loc[test, :], y[train], y[test], classifier)\n",
        "    return round(acc_sum / 5)\n",
        "\n",
        "def get_accuracy(x_train, x_test, y_train, y_test, classifier):    \n",
        "    classifier = classifier.fit(x_train, y_train)\n",
        "    result = classifier.predict(x_test)\n",
        "    acc = metrics.accuracy_score(result, y_test)\n",
        "    return acc * 100\n"
      ],
      "execution_count": 0,
      "outputs": []
    },
    {
      "cell_type": "code",
      "metadata": {
        "pycharm": {
          "is_executing": false,
          "name": "#%%\n"
        },
        "id": "kKavorIn3csp",
        "colab_type": "code",
        "colab": {
          "base_uri": "https://localhost:8080/",
          "height": 34
        },
        "outputId": "1ae053d2-49f1-45f4-ff54-79353b057fdc"
      },
      "source": [
        "# ========== YEAST ===========\n",
        "# DESCRIÇÃO:  Previsão de Localização de Proteínas em células\n",
        "url_yeast = \"https://raw.githubusercontent.com/kmlporto/machinelearning/master/database/yeast.data\"\n",
        "col_names_yeast = ['x1', 'x2', 'x3', 'x4', 'x5', 'x6', 'x7', 'x8', 'label']\n",
        "feature_cols_yeast = ['x1', 'x2', 'x3', 'x4', 'x5', 'x6', 'x7', 'x8']\n",
        "\n",
        "yeast_results = {\n",
        "    'tree': 0,\n",
        "    '5nn': 0,\n",
        "    '10nn': 0,\n",
        "    'mlp': 0,\n",
        "    'mlp2': 0,\n",
        "    'kmeans': 0,\n",
        "}\n",
        "\n",
        "\n",
        "dataset_yeast = pd.read_csv(url_yeast, header=None, names=col_names_yeast)\n",
        "\n",
        "x = dataset_yeast[feature_cols_yeast]\n",
        "y = dataset_yeast.label\n",
        "\n",
        "# TREE DECISION\n",
        "model_tree = tree.DecisionTreeClassifier(criterion=\"entropy\")\n",
        "yeast_results['tree'] = cross_validation(x, y, model_tree)\n",
        "\n",
        "# 5-NN\n",
        "model_5nn = KNeighborsClassifier(n_neighbors=5, metric='euclidean', algorithm='brute')\n",
        "yeast_results['5nn'] = cross_validation(x, y, model_5nn)\n",
        "\n",
        "# 10-NN\n",
        "model_10nn = KNeighborsClassifier(n_neighbors=10, metric='euclidean', algorithm='brute')\n",
        "yeast_results['10nn'] = cross_validation(x, y, model_10nn)\n",
        "\n",
        "# MLP\n",
        "model_mlp = MLPClassifier(hidden_layer_sizes=(4, 2), activation='tanh',max_iter=2000)\n",
        "yeast_results['mlp'] = cross_validation(x, y, model_mlp)\n",
        "\n",
        "# MLP2\n",
        "model_mlp2 = MLPClassifier(hidden_layer_sizes=(7, 3), activation='tanh',max_iter=2000)\n",
        "yeast_results['mlp2'] = cross_validation(x, y, model_mlp2)\n",
        "\n",
        "print(yeast_results)"
      ],
      "execution_count": 8,
      "outputs": [
        {
          "output_type": "stream",
          "text": [
            "{'tree': 49.0, '5nn': 54.0, '10nn': 57.0, 'mlp': 51.0, 'mlp2': 51.0, 'kmeans': 0}\n"
          ],
          "name": "stdout"
        }
      ]
    },
    {
      "cell_type": "code",
      "metadata": {
        "pycharm": {
          "is_executing": false,
          "name": "#%%\n"
        },
        "id": "0rcptF803csu",
        "colab_type": "code",
        "colab": {
          "base_uri": "https://localhost:8080/",
          "height": 34
        },
        "outputId": "549f2b4e-7ee1-43e1-ae93-9c97b32f83f1"
      },
      "source": [
        "# =========== WINE =============\n",
        "# DESCRIÇÃO: através de dados de análises químicas, avalia a qualidade do vinho\n",
        "url_wine = \"https://raw.githubusercontent.com/kmlporto/machinelearning/master/database/wine.data\"\n",
        "col_names_wine = ['label', 'x1', 'x2', 'x3', 'x4', 'x5', 'x6', 'x7', 'x8', 'x9', 'x10', 'x11', 'x12', 'x13']\n",
        "feature_cols_wine = ['x1', 'x2', 'x3', 'x4', 'x5', 'x6', 'x7', 'x8', 'x9', 'x10', 'x11', 'x12', 'x13']\n",
        "\n",
        "wine_results = {\n",
        "    'tree': 0,\n",
        "    '5nn': 0,\n",
        "    '10nn': 0,\n",
        "    'mlp': 0,\n",
        "    'mlp2': 0,\n",
        "    'kmeans': 0\n",
        "}\n",
        "\n",
        "dataset_wine = pd.read_csv(url_wine, header=None, names=col_names_wine)\n",
        "\n",
        "x = dataset_wine[feature_cols_wine]\n",
        "y = dataset_wine.label\n",
        "\n",
        "# TREE DECISION\n",
        "model_tree = tree.DecisionTreeClassifier(criterion=\"entropy\")\n",
        "wine_results['tree'] = cross_validation(x, y, model_tree)\n",
        "\n",
        "# 5-NN\n",
        "model_5nn = KNeighborsClassifier(n_neighbors=5, metric='euclidean', algorithm='brute')\n",
        "wine_results['5nn'] = cross_validation(x, y, model_5nn)\n",
        "\n",
        "# 10-NN\n",
        "model_10nn = KNeighborsClassifier(n_neighbors=10, metric='euclidean', algorithm='brute')\n",
        "wine_results['10nn'] = cross_validation(x, y, model_10nn)\n",
        "\n",
        "# MLP\n",
        "model_mlp = MLPClassifier(hidden_layer_sizes=(10, 5), activation='tanh',max_iter=2000)\n",
        "wine_results['mlp'] = cross_validation(x, y, model_mlp)\n",
        "\n",
        "# MLP\n",
        "model_mlp2 = MLPClassifier(hidden_layer_sizes=(6, 3), activation='tanh',max_iter=2000)\n",
        "wine_results['mlp2'] = cross_validation(x, y, model_mlp2)\n",
        "\n",
        "print(wine_results)\n"
      ],
      "execution_count": 9,
      "outputs": [
        {
          "output_type": "stream",
          "text": [
            "{'tree': 90.0, '5nn': 69.0, '10nn': 69.0, 'mlp': 76.0, 'mlp2': 66.0, 'kmeans': 0}\n"
          ],
          "name": "stdout"
        }
      ]
    },
    {
      "cell_type": "code",
      "metadata": {
        "pycharm": {
          "is_executing": false,
          "name": "#%%\n"
        },
        "id": "Gdgx2NMN3csy",
        "colab_type": "code",
        "colab": {
          "base_uri": "https://localhost:8080/",
          "height": 34
        },
        "outputId": "97b32fc6-ef1b-45ac-c9b9-273d3434599e"
      },
      "source": [
        "# =========== WEBSITE PHISHING ============\n",
        "\n",
        "url_phishing = \"https://raw.githubusercontent.com/kmlporto/machinelearning/datasets/database/PhishingData.data\"\n",
        "col_names_phishing = ['x1', 'x2', 'x3', 'x4', 'x5', 'x6', 'x7', 'x8', 'x9', 'label']\n",
        "feature_cols_phishing = ['x1', 'x2', 'x3', 'x4', 'x5', 'x6', 'x7', 'x8', 'x9']\n",
        "\n",
        "phishing_results = {\n",
        "    'tree': 0,\n",
        "    '5nn': 0,\n",
        "    '10nn': 0,\n",
        "    'mlp': 0,\n",
        "    'mlp2': 0,\n",
        "    'kmeans': 0,\n",
        "}\n",
        "\n",
        "\n",
        "dataset_phishing = pd.read_csv(url_phishing, header=None, names=col_names_phishing)\n",
        "\n",
        "x = dataset_phishing[feature_cols_phishing]\n",
        "y = dataset_phishing.label\n",
        "\n",
        "\n",
        "# TREE DECISION\n",
        "model_tree = tree.DecisionTreeClassifier(criterion=\"entropy\")\n",
        "phishing_results['tree'] = cross_validation(x, y, model_tree)\n",
        "\n",
        "# 5-NN\n",
        "model_5nn = KNeighborsClassifier(n_neighbors=5, metric='euclidean', algorithm='brute')\n",
        "phishing_results['5nn'] = cross_validation(x, y, model_5nn)\n",
        "\n",
        "# 10-NN\n",
        "model_10nn = KNeighborsClassifier(n_neighbors=10, metric='euclidean', algorithm='brute')\n",
        "phishing_results['10nn'] = cross_validation(x, y, model_10nn)\n",
        "\n",
        "# MLP\n",
        "model_mlp = MLPClassifier(hidden_layer_sizes=(4, 2), activation='tanh',max_iter=2000)\n",
        "phishing_results['mlp'] = cross_validation(x, y, model_mlp)\n",
        "\n",
        "# MLP2\n",
        "model_mlp2 = MLPClassifier(hidden_layer_sizes=(10, 5), activation='tanh',max_iter=2000)\n",
        "phishing_results['mlp2'] = cross_validation(x, y, model_mlp2)\n",
        "\n",
        "print(phishing_results)"
      ],
      "execution_count": 5,
      "outputs": [
        {
          "output_type": "stream",
          "text": [
            "{'tree': 88.0, '5nn': 87.0, '10nn': 86.0, 'mlp': 84.0, 'mlp2': 88.0, 'kmeans': 0}\n"
          ],
          "name": "stdout"
        }
      ]
    },
    {
      "cell_type": "code",
      "metadata": {
        "id": "2WFrzCvuGsZT",
        "colab_type": "code",
        "colab": {
          "base_uri": "https://localhost:8080/",
          "height": 235
        },
        "outputId": "164fbca1-00ba-443b-b45e-42b2c7943142"
      },
      "source": [
        "# RELATORIO\n",
        "\n",
        "pd.DataFrame.from_dict(yeast_results, orient='index')"
      ],
      "execution_count": 10,
      "outputs": [
        {
          "output_type": "execute_result",
          "data": {
            "text/html": [
              "<div>\n",
              "<style scoped>\n",
              "    .dataframe tbody tr th:only-of-type {\n",
              "        vertical-align: middle;\n",
              "    }\n",
              "\n",
              "    .dataframe tbody tr th {\n",
              "        vertical-align: top;\n",
              "    }\n",
              "\n",
              "    .dataframe thead th {\n",
              "        text-align: right;\n",
              "    }\n",
              "</style>\n",
              "<table border=\"1\" class=\"dataframe\">\n",
              "  <thead>\n",
              "    <tr style=\"text-align: right;\">\n",
              "      <th></th>\n",
              "      <th>0</th>\n",
              "    </tr>\n",
              "  </thead>\n",
              "  <tbody>\n",
              "    <tr>\n",
              "      <th>tree</th>\n",
              "      <td>49.0</td>\n",
              "    </tr>\n",
              "    <tr>\n",
              "      <th>5nn</th>\n",
              "      <td>54.0</td>\n",
              "    </tr>\n",
              "    <tr>\n",
              "      <th>10nn</th>\n",
              "      <td>57.0</td>\n",
              "    </tr>\n",
              "    <tr>\n",
              "      <th>mlp</th>\n",
              "      <td>51.0</td>\n",
              "    </tr>\n",
              "    <tr>\n",
              "      <th>mlp2</th>\n",
              "      <td>51.0</td>\n",
              "    </tr>\n",
              "    <tr>\n",
              "      <th>kmeans</th>\n",
              "      <td>0.0</td>\n",
              "    </tr>\n",
              "  </tbody>\n",
              "</table>\n",
              "</div>"
            ],
            "text/plain": [
              "           0\n",
              "tree    49.0\n",
              "5nn     54.0\n",
              "10nn    57.0\n",
              "mlp     51.0\n",
              "mlp2    51.0\n",
              "kmeans   0.0"
            ]
          },
          "metadata": {
            "tags": []
          },
          "execution_count": 10
        }
      ]
    },
    {
      "cell_type": "code",
      "metadata": {
        "id": "QBEg2mC-Gvdq",
        "colab_type": "code",
        "colab": {
          "base_uri": "https://localhost:8080/",
          "height": 235
        },
        "outputId": "465099f3-8e11-4860-9e68-b0ed75db7463"
      },
      "source": [
        "pd.DataFrame.from_dict(wine_results, orient='index')"
      ],
      "execution_count": 11,
      "outputs": [
        {
          "output_type": "execute_result",
          "data": {
            "text/html": [
              "<div>\n",
              "<style scoped>\n",
              "    .dataframe tbody tr th:only-of-type {\n",
              "        vertical-align: middle;\n",
              "    }\n",
              "\n",
              "    .dataframe tbody tr th {\n",
              "        vertical-align: top;\n",
              "    }\n",
              "\n",
              "    .dataframe thead th {\n",
              "        text-align: right;\n",
              "    }\n",
              "</style>\n",
              "<table border=\"1\" class=\"dataframe\">\n",
              "  <thead>\n",
              "    <tr style=\"text-align: right;\">\n",
              "      <th></th>\n",
              "      <th>0</th>\n",
              "    </tr>\n",
              "  </thead>\n",
              "  <tbody>\n",
              "    <tr>\n",
              "      <th>tree</th>\n",
              "      <td>90.0</td>\n",
              "    </tr>\n",
              "    <tr>\n",
              "      <th>5nn</th>\n",
              "      <td>69.0</td>\n",
              "    </tr>\n",
              "    <tr>\n",
              "      <th>10nn</th>\n",
              "      <td>69.0</td>\n",
              "    </tr>\n",
              "    <tr>\n",
              "      <th>mlp</th>\n",
              "      <td>76.0</td>\n",
              "    </tr>\n",
              "    <tr>\n",
              "      <th>mlp2</th>\n",
              "      <td>66.0</td>\n",
              "    </tr>\n",
              "    <tr>\n",
              "      <th>kmeans</th>\n",
              "      <td>0.0</td>\n",
              "    </tr>\n",
              "  </tbody>\n",
              "</table>\n",
              "</div>"
            ],
            "text/plain": [
              "           0\n",
              "tree    90.0\n",
              "5nn     69.0\n",
              "10nn    69.0\n",
              "mlp     76.0\n",
              "mlp2    66.0\n",
              "kmeans   0.0"
            ]
          },
          "metadata": {
            "tags": []
          },
          "execution_count": 11
        }
      ]
    },
    {
      "cell_type": "code",
      "metadata": {
        "id": "I-WkSE6jG_cU",
        "colab_type": "code",
        "colab": {
          "base_uri": "https://localhost:8080/",
          "height": 235
        },
        "outputId": "df57a99f-9274-44ba-982e-d1c8d55e99fc"
      },
      "source": [
        "pd.DataFrame.from_dict(phishing_results, orient='index')"
      ],
      "execution_count": 12,
      "outputs": [
        {
          "output_type": "execute_result",
          "data": {
            "text/html": [
              "<div>\n",
              "<style scoped>\n",
              "    .dataframe tbody tr th:only-of-type {\n",
              "        vertical-align: middle;\n",
              "    }\n",
              "\n",
              "    .dataframe tbody tr th {\n",
              "        vertical-align: top;\n",
              "    }\n",
              "\n",
              "    .dataframe thead th {\n",
              "        text-align: right;\n",
              "    }\n",
              "</style>\n",
              "<table border=\"1\" class=\"dataframe\">\n",
              "  <thead>\n",
              "    <tr style=\"text-align: right;\">\n",
              "      <th></th>\n",
              "      <th>0</th>\n",
              "    </tr>\n",
              "  </thead>\n",
              "  <tbody>\n",
              "    <tr>\n",
              "      <th>tree</th>\n",
              "      <td>88.0</td>\n",
              "    </tr>\n",
              "    <tr>\n",
              "      <th>5nn</th>\n",
              "      <td>87.0</td>\n",
              "    </tr>\n",
              "    <tr>\n",
              "      <th>10nn</th>\n",
              "      <td>86.0</td>\n",
              "    </tr>\n",
              "    <tr>\n",
              "      <th>mlp</th>\n",
              "      <td>84.0</td>\n",
              "    </tr>\n",
              "    <tr>\n",
              "      <th>mlp2</th>\n",
              "      <td>88.0</td>\n",
              "    </tr>\n",
              "    <tr>\n",
              "      <th>kmeans</th>\n",
              "      <td>0.0</td>\n",
              "    </tr>\n",
              "  </tbody>\n",
              "</table>\n",
              "</div>"
            ],
            "text/plain": [
              "           0\n",
              "tree    88.0\n",
              "5nn     87.0\n",
              "10nn    86.0\n",
              "mlp     84.0\n",
              "mlp2    88.0\n",
              "kmeans   0.0"
            ]
          },
          "metadata": {
            "tags": []
          },
          "execution_count": 12
        }
      ]
    }
  ]
}