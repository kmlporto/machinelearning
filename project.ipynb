{
 "nbformat": 4,
 "nbformat_minor": 0,
 "metadata": {
  "colab": {
   "name": "project.ipynb",
   "provenance": [],
   "include_colab_link": true
  },
  "kernelspec": {
   "display_name": "PyCharm (machinelearning)",
   "language": "python",
   "name": "pycharm-7e04e175"
  },
  "language_info": {
   "codemirror_mode": {
    "name": "ipython",
    "version": 3
   },
   "file_extension": ".py",
   "mimetype": "text/x-python",
   "name": "python",
   "nbconvert_exporter": "python",
   "pygments_lexer": "ipython3",
   "version": "3.7.5"
  },
  "pycharm": {
   "stem_cell": {
    "cell_type": "raw",
    "source": [],
    "metadata": {
     "collapsed": false
    }
   }
  }
 },
 "cells": [
  {
   "cell_type": "markdown",
   "metadata": {
    "id": "view-in-github",
    "colab_type": "text"
   },
   "source": [
    "<a href=\"https://colab.research.google.com/github/kmlporto/machinelearning/blob/datasets/project.ipynb\" target=\"_parent\"><img src=\"https://colab.research.google.com/assets/colab-badge.svg\" alt=\"Open In Colab\"/></a>"
   ]
  },
  {
   "cell_type": "code",
   "metadata": {
    "colab_type": "code",
    "id": "QDUusTuD7S63",
    "pycharm": {
     "is_executing": false
    },
    "colab": {}
   },
   "source": [
    "import pandas as pd\n",
    "import numpy as np\n",
    "import matplotlib.pyplot as plt\n",
    "from sklearn import tree\n",
    "from sklearn import metrics\n",
    "from sklearn.neighbors import KNeighborsClassifier\n",
    "from sklearn.neural_network import MLPClassifier\n",
    "from sklearn.model_selection import StratifiedKFold\n",
    "from sklearn.cluster import KMeans"
   ],
   "execution_count": 26,
   "outputs": []
  },
  {
   "cell_type": "code",
   "metadata": {
    "pycharm": {
     "is_executing": false,
     "name": "#%%\n"
    },
    "id": "UyAOUDvP3csl",
    "colab_type": "code",
    "colab": {}
   },
   "source": [
    "\n",
    "def cross_validation(X, y, classifier):\n",
    "    skf = StratifiedKFold(n_splits=5)\n",
    "    acc_sum = 0\n",
    "    for train, test in skf.split(X, y):\n",
    "        acc_sum += get_accuracy(X.loc[train, :], X.loc[test, :], y[train], y[test], classifier)\n",
    "    return round(acc_sum / 5)\n",
    "\n",
    "def get_accuracy(x_train, x_test, y_train, y_test, classifier):    \n",
    "    classifier = classifier.fit(x_train, y_train)\n",
    "    result = classifier.predict(x_test)\n",
    "    acc = metrics.accuracy_score(result, y_test)\n",
    "    return acc * 100\n",
    "\n",
    "\n",
    "def cross_validation_kmeans(n_clusters):\n",
    "    classifier = KMeans(n_clusters=n_clusters)\n",
    "    skf = StratifiedKFold(n_splits=5)\n",
    "    acc_sum = 0\n",
    "    for train, test in skf.split(x, y):\n",
    "        classifier = classifier.fit(x.loc[train, :])\n",
    "        result = classifier.predict(x.loc[test, :])\n",
    "        acc = metrics.accuracy_score(result, y[test]) * 100\n",
    "        acc_sum += acc\n",
    "    return round(acc_sum / 5)"
   ],
   "execution_count": 27,
   "outputs": []
  },
  {
   "cell_type": "code",
   "metadata": {
    "pycharm": {
     "is_executing": false,
     "name": "#%%\n"
    },
    "id": "kKavorIn3csp",
    "colab_type": "code",
    "colab": {
     "base_uri": "https://localhost:8080/",
     "height": 34
    },
    "outputId": "1ae053d2-49f1-45f4-ff54-79353b057fdc"
   },
   "source": [
    "# ========== YEAST ===========\n",
    "# DESCRIÇÃO:  Previsão de Localização de Proteínas em células\n",
    "url_yeast = \"https://raw.githubusercontent.com/kmlporto/machinelearning/master/database/yeast.data\"\n",
    "col_names_yeast = ['x1', 'x2', 'x3', 'x4', 'x5', 'x6', 'x7', 'x8', 'label']\n",
    "feature_cols_yeast = ['x1', 'x2', 'x3', 'x4', 'x5', 'x6', 'x7', 'x8']\n",
    "\n",
    "yeast_results = {\n",
    "    'tree': 0,\n",
    "    '5nn': 0,\n",
    "    '10nn': 0,\n",
    "    'mlp': 0,\n",
    "    'mlp2': 0,\n",
    "    'kmeans': 0,\n",
    "}\n",
    "\n",
    "\n",
    "dataset_yeast = pd.read_csv(url_yeast, header=None, names=col_names_yeast)\n",
    "\n",
    "x = dataset_yeast[feature_cols_yeast]\n",
    "y = dataset_yeast.label\n",
    "\n",
    "# TREE DECISION\n",
    "model_tree = tree.DecisionTreeClassifier(criterion=\"entropy\")\n",
    "yeast_results['tree'] = cross_validation(x, y, model_tree)\n",
    "\n",
    "# 5-NN\n",
    "model_5nn = KNeighborsClassifier(n_neighbors=5, metric='euclidean', algorithm='brute')\n",
    "yeast_results['5nn'] = cross_validation(x, y, model_5nn)\n",
    "\n",
    "# 10-NN\n",
    "model_10nn = KNeighborsClassifier(n_neighbors=10, metric='euclidean', algorithm='brute')\n",
    "yeast_results['10nn'] = cross_validation(x, y, model_10nn)\n",
    "\n",
    "# MLP\n",
    "model_mlp = MLPClassifier(hidden_layer_sizes=(4, 2), activation='tanh',max_iter=2000)\n",
    "yeast_results['mlp'] = cross_validation(x, y, model_mlp)\n",
    "\n",
    "# MLP2\n",
    "model_mlp2 = MLPClassifier(hidden_layer_sizes=(7, 3), activation='tanh',max_iter=2000)\n",
    "yeast_results['mlp2'] = cross_validation(x, y, model_mlp2)\n",
    "\n",
    "# KMEANS\n",
    "yeast_results['kmeans'] = cross_validation_kmeans(y.value_counts().count())\n",
    "\n",
    "print(yeast_results)"
   ],
   "execution_count": 28,
   "outputs": [
    {
     "name": "stderr",
     "text": [
      "/home/fabricio/.virtualenvs/ia/lib/python3.7/site-packages/sklearn/neural_network/_multilayer_perceptron.py:571: ConvergenceWarning: Stochastic Optimizer: Maximum iterations (2000) reached and the optimization hasn't converged yet.\n",
      "  % self.max_iter, ConvergenceWarning)\n"
     ],
     "output_type": "stream"
    },
    {
     "name": "stdout",
     "text": [
      "{'tree': 48.0, '5nn': 54.0, '10nn': 57.0, 'mlp': 51.0, 'mlp2': 55.0, 'kmeans': 0.0}\n"
     ],
     "output_type": "stream"
    }
   ]
  },
  {
   "cell_type": "code",
   "metadata": {
    "pycharm": {
     "is_executing": false,
     "name": "#%%\n"
    },
    "id": "0rcptF803csu",
    "colab_type": "code",
    "colab": {
     "base_uri": "https://localhost:8080/",
     "height": 34
    },
    "outputId": "549f2b4e-7ee1-43e1-ae93-9c97b32f83f1"
   },
   "source": [
    "# =========== WINE =============\n",
    "# DESCRIÇÃO: através de dados de análises químicas, avalia a qualidade do vinho\n",
    "url_wine = \"https://raw.githubusercontent.com/kmlporto/machinelearning/master/database/wine.data\"\n",
    "col_names_wine = ['label', 'x1', 'x2', 'x3', 'x4', 'x5', 'x6', 'x7', 'x8', 'x9', 'x10', 'x11', 'x12', 'x13']\n",
    "feature_cols_wine = ['x1', 'x2', 'x3', 'x4', 'x5', 'x6', 'x7', 'x8', 'x9', 'x10', 'x11', 'x12', 'x13']\n",
    "\n",
    "wine_results = {\n",
    "    'tree': 0,\n",
    "    '5nn': 0,\n",
    "    '10nn': 0,\n",
    "    'mlp': 0,\n",
    "    'mlp2': 0,\n",
    "    'kmeans': 0\n",
    "}\n",
    "\n",
    "dataset_wine = pd.read_csv(url_wine, header=None, names=col_names_wine)\n",
    "\n",
    "x = dataset_wine[feature_cols_wine]\n",
    "y = dataset_wine.label\n",
    "\n",
    "# TREE DECISION\n",
    "model_tree = tree.DecisionTreeClassifier(criterion=\"entropy\")\n",
    "wine_results['tree'] = cross_validation(x, y, model_tree)\n",
    "\n",
    "# 5-NN\n",
    "model_5nn = KNeighborsClassifier(n_neighbors=5, metric='euclidean', algorithm='brute')\n",
    "wine_results['5nn'] = cross_validation(x, y, model_5nn)\n",
    "\n",
    "# 10-NN\n",
    "model_10nn = KNeighborsClassifier(n_neighbors=10, metric='euclidean', algorithm='brute')\n",
    "wine_results['10nn'] = cross_validation(x, y, model_10nn)\n",
    "\n",
    "# MLP\n",
    "model_mlp = MLPClassifier(hidden_layer_sizes=(10, 5), activation='tanh',max_iter=2000)\n",
    "wine_results['mlp'] = cross_validation(x, y, model_mlp)\n",
    "\n",
    "# MLP2\n",
    "model_mlp2 = MLPClassifier(hidden_layer_sizes=(6, 3), activation='tanh',max_iter=2000)\n",
    "wine_results['mlp2'] = cross_validation(x, y, model_mlp2)\n",
    "\n",
    "# KMEANS\n",
    "wine_results['kmeans'] = cross_validation_kmeans(y.value_counts().count())\n",
    "\n",
    "print(wine_results)\n"
   ],
   "execution_count": 29,
   "outputs": [
    {
     "name": "stdout",
     "text": [
      "{'tree': 90.0, '5nn': 69.0, '10nn': 69.0, 'mlp': 49.0, 'mlp2': 56.0, 'kmeans': 19.0}\n"
     ],
     "output_type": "stream"
    }
   ]
  },
  {
   "cell_type": "code",
   "metadata": {
    "pycharm": {
     "is_executing": false,
     "name": "#%%\n"
    },
    "id": "Gdgx2NMN3csy",
    "colab_type": "code",
    "colab": {
     "base_uri": "https://localhost:8080/",
     "height": 34
    },
    "outputId": "97b32fc6-ef1b-45ac-c9b9-273d3434599e"
   },
   "source": [
    "# =========== WEBSITE PHISHING ============\n",
    "\n",
    "url_phishing = \"https://raw.githubusercontent.com/kmlporto/machinelearning/datasets/database/PhishingData.data\"\n",
    "col_names_phishing = ['x1', 'x2', 'x3', 'x4', 'x5', 'x6', 'x7', 'x8', 'x9', 'label']\n",
    "feature_cols_phishing = ['x1', 'x2', 'x3', 'x4', 'x5', 'x6', 'x7', 'x8', 'x9']\n",
    "\n",
    "phishing_results = {\n",
    "    'tree': 0,\n",
    "    '5nn': 0,\n",
    "    '10nn': 0,\n",
    "    'mlp': 0,\n",
    "    'mlp2': 0,\n",
    "    'kmeans': 0,\n",
    "}\n",
    "\n",
    "\n",
    "dataset_phishing = pd.read_csv(url_phishing, header=None, names=col_names_phishing)\n",
    "\n",
    "x = dataset_phishing[feature_cols_phishing]\n",
    "y = dataset_phishing.label\n",
    "\n",
    "\n",
    "# TREE DECISION\n",
    "model_tree = tree.DecisionTreeClassifier(criterion=\"entropy\")\n",
    "phishing_results['tree'] = cross_validation(x, y, model_tree)\n",
    "\n",
    "# 5-NN\n",
    "model_5nn = KNeighborsClassifier(n_neighbors=5, metric='euclidean', algorithm='brute')\n",
    "phishing_results['5nn'] = cross_validation(x, y, model_5nn)\n",
    "\n",
    "# 10-NN\n",
    "model_10nn = KNeighborsClassifier(n_neighbors=10, metric='euclidean', algorithm='brute')\n",
    "phishing_results['10nn'] = cross_validation(x, y, model_10nn)\n",
    "\n",
    "# MLP\n",
    "model_mlp = MLPClassifier(hidden_layer_sizes=(4, 2), activation='tanh',max_iter=2000)\n",
    "phishing_results['mlp'] = cross_validation(x, y, model_mlp)\n",
    "\n",
    "# MLP2\n",
    "model_mlp2 = MLPClassifier(hidden_layer_sizes=(10, 5), activation='tanh',max_iter=2000)\n",
    "phishing_results['mlp2'] = cross_validation(x, y, model_mlp2)\n",
    "\n",
    "# KMEANS\n",
    "phishing_results['kmeans'] = cross_validation_kmeans(y.value_counts().count())\n",
    "\n",
    "print(phishing_results)"
   ],
   "execution_count": 30,
   "outputs": [
    {
     "name": "stdout",
     "text": [
      "{'tree': 88.0, '5nn': 87.0, '10nn': 86.0, 'mlp': 85.0, 'mlp2': 88.0, 'kmeans': 20.0}\n"
     ],
     "output_type": "stream"
    }
   ]
  },
  {
   "cell_type": "code",
   "metadata": {
    "id": "2WFrzCvuGsZT",
    "colab_type": "code",
    "colab": {
     "base_uri": "https://localhost:8080/",
     "height": 235
    },
    "outputId": "164fbca1-00ba-443b-b45e-42b2c7943142",
    "pycharm": {
     "name": "#%%\n",
     "is_executing": false
    }
   },
   "source": [
    "# RELATORIO\n",
    "\n",
    "pd.DataFrame.from_dict(\n",
    "    {\n",
    "        'yeast': yeast_results,\n",
    "        'wine': wine_results,\n",
    "        'phishing': phishing_results,\n",
    "    },\n",
    "    orient='index'\n",
    ")"
   ],
   "execution_count": 31,
   "outputs": [
    {
     "data": {
      "text/plain": "          tree   5nn  10nn   mlp  mlp2  kmeans\nyeast     48.0  54.0  57.0  51.0  55.0     0.0\nwine      90.0  69.0  69.0  49.0  56.0    19.0\nphishing  88.0  87.0  86.0  85.0  88.0    20.0",
      "text/html": "<div>\n<style scoped>\n    .dataframe tbody tr th:only-of-type {\n        vertical-align: middle;\n    }\n\n    .dataframe tbody tr th {\n        vertical-align: top;\n    }\n\n    .dataframe thead th {\n        text-align: right;\n    }\n</style>\n<table border=\"1\" class=\"dataframe\">\n  <thead>\n    <tr style=\"text-align: right;\">\n      <th></th>\n      <th>tree</th>\n      <th>5nn</th>\n      <th>10nn</th>\n      <th>mlp</th>\n      <th>mlp2</th>\n      <th>kmeans</th>\n    </tr>\n  </thead>\n  <tbody>\n    <tr>\n      <th>yeast</th>\n      <td>48.0</td>\n      <td>54.0</td>\n      <td>57.0</td>\n      <td>51.0</td>\n      <td>55.0</td>\n      <td>0.0</td>\n    </tr>\n    <tr>\n      <th>wine</th>\n      <td>90.0</td>\n      <td>69.0</td>\n      <td>69.0</td>\n      <td>49.0</td>\n      <td>56.0</td>\n      <td>19.0</td>\n    </tr>\n    <tr>\n      <th>phishing</th>\n      <td>88.0</td>\n      <td>87.0</td>\n      <td>86.0</td>\n      <td>85.0</td>\n      <td>88.0</td>\n      <td>20.0</td>\n    </tr>\n  </tbody>\n</table>\n</div>"
     },
     "metadata": {},
     "output_type": "execute_result",
     "execution_count": 31
    }
   ]
  },
  {
   "cell_type": "code",
   "execution_count": 31,
   "outputs": [],
   "source": [],
   "metadata": {
    "collapsed": false,
    "pycharm": {
     "name": "#%%\n",
     "is_executing": false
    }
   }
  }
 ]
}