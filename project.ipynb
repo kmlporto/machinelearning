{
  "nbformat": 4,
  "nbformat_minor": 0,
  "metadata": {
    "colab": {
      "name": "project.ipynb",
      "provenance": [],
      "include_colab_link": true
    },
    "kernelspec": {
      "display_name": "PyCharm (machinelearning)",
      "language": "python",
      "name": "pycharm-7e04e175"
    },
    "language_info": {
      "codemirror_mode": {
        "name": "ipython",
        "version": 3
      },
      "file_extension": ".py",
      "mimetype": "text/x-python",
      "name": "python",
      "nbconvert_exporter": "python",
      "pygments_lexer": "ipython3",
      "version": "3.7.5"
    },
    "pycharm": {
      "stem_cell": {
        "cell_type": "raw",
        "metadata": {
          "collapsed": false
        },
        "source": []
      }
    }
  },
  "cells": [
    {
      "cell_type": "markdown",
      "metadata": {
        "id": "view-in-github",
        "colab_type": "text"
      },
      "source": [
        "<a href=\"https://colab.research.google.com/github/kmlporto/machinelearning/blob/dev-teste/project.ipynb\" target=\"_parent\"><img src=\"https://colab.research.google.com/assets/colab-badge.svg\" alt=\"Open In Colab\"/></a>"
      ]
    },
    {
      "cell_type": "code",
      "metadata": {
        "colab_type": "code",
        "id": "QDUusTuD7S63",
        "pycharm": {
          "is_executing": false
        },
        "colab": {}
      },
      "source": [
        "import pandas as pd\n",
        "import math\n",
        "import statistics\n",
        "import numpy as np\n",
        "import matplotlib.pyplot as plt\n",
        "from sklearn import tree\n",
        "from sklearn import metrics\n",
        "from sklearn.model_selection import train_test_split\n",
        "from sklearn.neighbors import KNeighborsClassifier\n",
        "from sklearn.neural_network import MLPClassifier\n",
        "from collections import Counter\n",
        "import arff\n",
        "from sklearn.model_selection import cross_val_score\n",
        "from sklearn import datasets\n",
        "from sklearn.model_selection import StratifiedKFold"
      ],
      "execution_count": 0,
      "outputs": []
    },
    {
      "cell_type": "code",
      "metadata": {
        "pycharm": {
          "is_executing": false,
          "name": "#%%\n"
        },
        "id": "UyAOUDvP3csl",
        "colab_type": "code",
        "colab": {}
      },
      "source": [
        "\n",
        "def cross_validation(X, y, classifier):\n",
        "    skf = StratifiedKFold(n_splits=5)\n",
        "    acc_sum = 0\n",
        "    for train, test in skf.split(X, y):\n",
        "        acc_sum += get_accuracy(X.loc[train, :], X.loc[test, :], y[train], y[test], classifier)\n",
        "    return round(acc_sum / 5)\n",
        "\n",
        "def get_accuracy(x_train, x_test, y_train, y_test, classifier):    \n",
        "    classifier = classifier.fit(x_train, y_train)\n",
        "    result = classifier.predict(x_test)\n",
        "    acc = metrics.accuracy_score(result, y_test)\n",
        "    return acc * 100\n"
      ],
      "execution_count": 0,
      "outputs": []
    },
    {
      "cell_type": "code",
      "metadata": {
        "pycharm": {
          "is_executing": false,
          "name": "#%%\n"
        },
        "id": "kKavorIn3csp",
        "colab_type": "code",
        "colab": {
          "base_uri": "https://localhost:8080/",
          "height": 34
        },
        "outputId": "0dd3fe66-397b-4a56-82a6-1e5d43709a4f"
      },
      "source": [
        "# ========== ABALONE ===========\n",
        "url_abalone = \"https://raw.githubusercontent.com/kmlporto/machinelearning/master/database/abalone.data\"\n",
        "col_names_abalone = ['label', 'x1', 'x2', 'x3', 'x4', 'x5', 'x6', 'x7', 'x8']\n",
        "feature_cols_abalone = ['x1', 'x2', 'x3', 'x4', 'x5', 'x6', 'x7', 'x8']\n",
        "\n",
        "abalone_results = {\n",
        "    'tree': 0,\n",
        "    '5nn': 0,\n",
        "    '10nn': 0,\n",
        "    'mlp': 0,\n",
        "    'mlp2': 0,\n",
        "    'kmeans': 0,\n",
        "}\n",
        "\n",
        "\n",
        "dataset_abalone = pd.read_csv(url_abalone, header=None, names=col_names_abalone)\n",
        "\n",
        "x = dataset_abalone[feature_cols_abalone]\n",
        "y = dataset_abalone.label\n",
        "\n",
        "# TREE DECISION\n",
        "model_tree = tree.DecisionTreeClassifier(criterion=\"entropy\")\n",
        "abalone_results['tree'] = cross_validation(x, y, model_tree)\n",
        "\n",
        "# 5-NN\n",
        "model_5nn = KNeighborsClassifier(n_neighbors=5, metric='euclidean', algorithm='brute')\n",
        "abalone_results['5nn'] = cross_validation(x, y, model_5nn)\n",
        "\n",
        "# 10-NN\n",
        "model_10nn = KNeighborsClassifier(n_neighbors=10, metric='euclidean', algorithm='brute')\n",
        "abalone_results['10nn'] = cross_validation(x, y, model_10nn)\n",
        "\n",
        "# MLP\n",
        "model_mlp = MLPClassifier(hidden_layer_sizes=(4, 2), activation='tanh',max_iter=2000)\n",
        "abalone_results['mlp'] = cross_validation(x, y, model_mlp)\n",
        "\n",
        "# MLP2\n",
        "model_mlp2 = MLPClassifier(hidden_layer_sizes=(7, 3), activation='tanh',max_iter=2000)\n",
        "abalone_results['mlp2'] = cross_validation(x, y, model_mlp2)\n",
        "\n",
        "print(abalone_results)"
      ],
      "execution_count": 5,
      "outputs": [
        {
          "output_type": "stream",
          "text": [
            "{'tree': 49.0, '5nn': 52.0, '10nn': 52.0, 'mlp': 54.0, 'mlp2': 54.0, 'kmeans': 0}\n"
          ],
          "name": "stdout"
        }
      ]
    },
    {
      "cell_type": "code",
      "metadata": {
        "pycharm": {
          "is_executing": false,
          "name": "#%%\n"
        },
        "id": "0rcptF803csu",
        "colab_type": "code",
        "colab": {
          "base_uri": "https://localhost:8080/",
          "height": 34
        },
        "outputId": "10ac9dfc-eb22-489c-ed20-80b31eca2c2c"
      },
      "source": [
        "# =========== WINE =============\n",
        "url_wine = \"https://raw.githubusercontent.com/kmlporto/machinelearning/master/database/wine.data\"\n",
        "col_names_wine = ['label', 'x1', 'x2', 'x3', 'x4', 'x5', 'x6', 'x7', 'x8', 'x9', 'x10', 'x11', 'x12', 'x13']\n",
        "feature_cols_wine = ['x1', 'x2', 'x3', 'x4', 'x5', 'x6', 'x7', 'x8', 'x9', 'x10', 'x11', 'x12', 'x13']\n",
        "\n",
        "wine_results = {\n",
        "    'tree': 0,\n",
        "    '5nn': 0,\n",
        "    '10nn': 0,\n",
        "    'mlp': 0,\n",
        "    'mlp2': 0,\n",
        "    'kmeans': 0\n",
        "}\n",
        "\n",
        "dataset_wine = pd.read_csv(url_wine, header=None, names=col_names_wine)\n",
        "\n",
        "x = dataset_wine[feature_cols_wine]\n",
        "y = dataset_wine.label\n",
        "\n",
        "# TREE DECISION\n",
        "model_tree = tree.DecisionTreeClassifier(criterion=\"entropy\")\n",
        "wine_results['tree'] = cross_validation(x, y, model_tree)\n",
        "\n",
        "# 5-NN\n",
        "model_5nn = KNeighborsClassifier(n_neighbors=5, metric='euclidean', algorithm='brute')\n",
        "wine_results['5nn'] = cross_validation(x, y, model_5nn)\n",
        "\n",
        "# 10-NN\n",
        "model_10nn = KNeighborsClassifier(n_neighbors=10, metric='euclidean', algorithm='brute')\n",
        "wine_results['10nn'] = cross_validation(x, y, model_10nn)\n",
        "\n",
        "# MLP\n",
        "model_mlp = MLPClassifier(hidden_layer_sizes=(10, 5), activation='tanh',max_iter=2000)\n",
        "wine_results['mlp'] = cross_validation(x, y, model_mlp)\n",
        "\n",
        "# MLP\n",
        "model_mlp2 = MLPClassifier(hidden_layer_sizes=(6, 3), activation='tanh',max_iter=2000)\n",
        "wine_results['mlp2'] = cross_validation(x, y, model_mlp2)\n",
        "\n",
        "print(wine_results)\n"
      ],
      "execution_count": 6,
      "outputs": [
        {
          "output_type": "stream",
          "text": [
            "{'tree': 92.0, '5nn': 69.0, '10nn': 69.0, 'mlp': 60.0, 'mlp2': 61.0, 'kmeans': 0}\n"
          ],
          "name": "stdout"
        }
      ]
    },
    {
      "cell_type": "code",
      "metadata": {
        "pycharm": {
          "is_executing": false,
          "name": "#%%\n"
        },
        "id": "Gdgx2NMN3csy",
        "colab_type": "code",
        "colab": {
          "base_uri": "https://localhost:8080/",
          "height": 350
        },
        "outputId": "6351cc1d-0d0d-4336-9833-6f2993014e78"
      },
      "source": [
        "# =========== WEBSITE PHISHING ============\n",
        "\n",
        "url_phishing = \"https://raw.githubusercontent.com/kmlporto/machinelearning/master/database/PhishingData.arff\"\n",
        "col_names_phishing = ['x1', 'x2', 'x3', 'x4', 'x5', 'x6', 'x7', 'x8', 'x9', 'label']\n",
        "feature_cols_phishing = ['x1', 'x2', 'x3', 'x4', 'x5', 'x6', 'x7', 'x8', 'x9']\n",
        "\n",
        "phishing_results = {\n",
        "    'tree': 0,\n",
        "    '5nn': 0,\n",
        "    '10nn': 0,\n",
        "    'mlp': 0,\n",
        "    'mlp2': 0,\n",
        "    'kmeans': 0,\n",
        "}\n",
        "\n",
        "list_phishing = list()\n",
        "for row in arff.load(url_phishing):\n",
        "    list_phishing.append(list(row))\n",
        "dataset_phishing = pd.DataFrame(list_phishing, columns=col_names_phishing)\n",
        "\n",
        "x = dataset_phishing[feature_cols_phishing]\n",
        "y = dataset_phishing.label\n",
        "\n",
        "# TREE DECISION\n",
        "model_tree = tree.DecisionTreeClassifier(criterion=\"entropy\")\n",
        "phishing_results['tree'] = cross_validation(x, y, model_tree)\n",
        "\n",
        "# 5-NN\n",
        "model_5nn = KNeighborsClassifier(n_neighbors=5, metric='euclidean', algorithm='brute')\n",
        "phishing_results['5nn'] = cross_validation(x, y, model_5nn)\n",
        "\n",
        "# 10-NN\n",
        "model_10nn = KNeighborsClassifier(n_neighbors=10, metric='euclidean', algorithm='brute')\n",
        "phishing_results['10nn'] = cross_validation(x, y, model_10nn)\n",
        "\n",
        "# MLP\n",
        "model_mlp = MLPClassifier(hidden_layer_sizes=(4, 2), activation='tanh',max_iter=2000)\n",
        "phishing_results['mlp'] = cross_validation(x, y, model_mlp)\n",
        "\n",
        "# MLP2\n",
        "model_mlp2 = MLPClassifier(hidden_layer_sizes=(10, 5), activation='tanh',max_iter=2000)\n",
        "phishing_results['mlp2'] = cross_validation(x, y, model_mlp2)\n",
        "\n",
        "print(phishing_results)"
      ],
      "execution_count": 12,
      "outputs": [
        {
          "output_type": "error",
          "ename": "FileNotFoundError",
          "evalue": "ignored",
          "traceback": [
            "\u001b[0;31m---------------------------------------------------------------------------\u001b[0m",
            "\u001b[0;31mFileNotFoundError\u001b[0m                         Traceback (most recent call last)",
            "\u001b[0;32m<ipython-input-12-0aa9de128cd4>\u001b[0m in \u001b[0;36m<module>\u001b[0;34m()\u001b[0m\n\u001b[1;32m     14\u001b[0m \u001b[0;34m\u001b[0m\u001b[0m\n\u001b[1;32m     15\u001b[0m \u001b[0mlist_phishing\u001b[0m \u001b[0;34m=\u001b[0m \u001b[0mlist\u001b[0m\u001b[0;34m(\u001b[0m\u001b[0;34m)\u001b[0m\u001b[0;34m\u001b[0m\u001b[0;34m\u001b[0m\u001b[0m\n\u001b[0;32m---> 16\u001b[0;31m \u001b[0;32mfor\u001b[0m \u001b[0mrow\u001b[0m \u001b[0;32min\u001b[0m \u001b[0marff\u001b[0m\u001b[0;34m.\u001b[0m\u001b[0mload\u001b[0m\u001b[0;34m(\u001b[0m\u001b[0murl_phishing\u001b[0m\u001b[0;34m)\u001b[0m\u001b[0;34m:\u001b[0m\u001b[0;34m\u001b[0m\u001b[0;34m\u001b[0m\u001b[0m\n\u001b[0m\u001b[1;32m     17\u001b[0m     \u001b[0mlist_phishing\u001b[0m\u001b[0;34m.\u001b[0m\u001b[0mappend\u001b[0m\u001b[0;34m(\u001b[0m\u001b[0mlist\u001b[0m\u001b[0;34m(\u001b[0m\u001b[0mrow\u001b[0m\u001b[0;34m)\u001b[0m\u001b[0;34m)\u001b[0m\u001b[0;34m\u001b[0m\u001b[0;34m\u001b[0m\u001b[0m\n\u001b[1;32m     18\u001b[0m \u001b[0mdataset_phishing\u001b[0m \u001b[0;34m=\u001b[0m \u001b[0mpd\u001b[0m\u001b[0;34m.\u001b[0m\u001b[0mDataFrame\u001b[0m\u001b[0;34m(\u001b[0m\u001b[0mlist_phishing\u001b[0m\u001b[0;34m,\u001b[0m \u001b[0mcolumns\u001b[0m\u001b[0;34m=\u001b[0m\u001b[0mcol_names_phishing\u001b[0m\u001b[0;34m)\u001b[0m\u001b[0;34m\u001b[0m\u001b[0;34m\u001b[0m\u001b[0m\n",
            "\u001b[0;32m/usr/local/lib/python3.6/dist-packages/arff/__init__.py\u001b[0m in \u001b[0;36mload\u001b[0;34m(fname)\u001b[0m\n\u001b[1;32m    237\u001b[0m \u001b[0;34m\u001b[0m\u001b[0m\n\u001b[1;32m    238\u001b[0m \u001b[0;32mdef\u001b[0m \u001b[0mload\u001b[0m\u001b[0;34m(\u001b[0m\u001b[0mfname\u001b[0m\u001b[0;34m)\u001b[0m\u001b[0;34m:\u001b[0m\u001b[0;34m\u001b[0m\u001b[0;34m\u001b[0m\u001b[0m\n\u001b[0;32m--> 239\u001b[0;31m     \u001b[0;32mwith\u001b[0m \u001b[0mopen\u001b[0m\u001b[0;34m(\u001b[0m\u001b[0mfname\u001b[0m\u001b[0;34m,\u001b[0m \u001b[0;34m'r'\u001b[0m\u001b[0;34m)\u001b[0m \u001b[0;32mas\u001b[0m \u001b[0mfhand\u001b[0m\u001b[0;34m:\u001b[0m\u001b[0;34m\u001b[0m\u001b[0;34m\u001b[0m\u001b[0m\n\u001b[0m\u001b[1;32m    240\u001b[0m         \u001b[0;32mfor\u001b[0m \u001b[0mitem\u001b[0m \u001b[0;32min\u001b[0m \u001b[0mReader\u001b[0m\u001b[0;34m(\u001b[0m\u001b[0mfhand\u001b[0m\u001b[0;34m)\u001b[0m\u001b[0;34m:\u001b[0m\u001b[0;34m\u001b[0m\u001b[0;34m\u001b[0m\u001b[0m\n\u001b[1;32m    241\u001b[0m             \u001b[0;32myield\u001b[0m \u001b[0mitem\u001b[0m\u001b[0;34m\u001b[0m\u001b[0;34m\u001b[0m\u001b[0m\n",
            "\u001b[0;31mFileNotFoundError\u001b[0m: [Errno 2] No such file or directory: 'https://raw.githubusercontent.com/kmlporto/machinelearning/master/database/PhishingData.arff'"
          ]
        }
      ]
    },
    {
      "cell_type": "code",
      "metadata": {
        "id": "B2KiNf_A3cs1",
        "colab_type": "code",
        "colab": {}
      },
      "source": [
        ""
      ],
      "execution_count": 0,
      "outputs": []
    }
  ]
}