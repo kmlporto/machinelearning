{
  "nbformat": 4,
  "nbformat_minor": 0,
  "metadata": {
    "colab": {
      "name": "project.ipynb",
      "provenance": [],
      "authorship_tag": "ABX9TyMORB3m/DQGZrhD9db3oGT4",
      "include_colab_link": true
    },
    "kernelspec": {
      "name": "python3",
      "display_name": "Python 3"
    }
  },
  "cells": [
    {
      "cell_type": "markdown",
      "metadata": {
        "id": "view-in-github",
        "colab_type": "text"
      },
      "source": [
        "<a href=\"https://colab.research.google.com/github/kmlporto/machinelearning/blob/master/project.ipynb\" target=\"_parent\"><img src=\"https://colab.research.google.com/assets/colab-badge.svg\" alt=\"Open In Colab\"/></a>"
      ]
    },
    {
      "cell_type": "code",
      "metadata": {
        "id": "QDUusTuD7S63",
        "colab_type": "code",
        "colab": {}
      },
      "source": [
        "import pandas as pd\n",
        "import math\n",
        "import statistics\n",
        "import numpy\n",
        "import matplotlib.pyplot as plt\n",
        "from sklearn import tree\n",
        "from sklearn import metrics\n",
        "from sklearn.model_selection import train_test_split\n",
        "from sklearn.neighbors import KNeighborsClassifier\n",
        "from sklearn.neural_network import MLPClassifier\n",
        "from collections import Counter\n",
        "\n",
        "\n",
        "\n",
        "# ========== ABALONE ===========\n",
        "url_abalone = \"https://raw.githubusercontent.com/kmlporto/machinelearning/master/database/abalone.data\"\n",
        "col_names_abalone = ['label', 'x1', 'x2', 'x3', 'x4', 'x5', 'x6', 'x7', 'x8']\n",
        "feature_cols_abalone = ['x1', 'x2', 'x3', 'x4', 'x5', 'x6', 'x7', 'x8']\n",
        "\n",
        "# =========== WINE =============\n",
        "url_wine = \"https://raw.githubusercontent.com/kmlporto/machinelearning/master/database/wine.data\"\n",
        "col_names_wine = ['label', 'x1', 'x2', 'x3', 'x4', 'x5', 'x6', 'x7', 'x8', 'x9', 'x10', 'x11', 'x12', 'x13']\n",
        "feature_cols_wine = ['x1', 'x2', 'x3', 'x4', 'x5', 'x6', 'x7', 'x8', 'x9', 'x10', 'x11', 'x12', 'x13']\n",
        "\n",
        "# =========== OTHER ============\n"
      ],
      "execution_count": 0,
      "outputs": []
    },
    {
      "cell_type": "code",
      "metadata": {
        "id": "NopX7UXJpItJ",
        "colab_type": "code",
        "colab": {}
      },
      "source": [
        "abalone_results = {\n",
        "    'tree': 0,\n",
        "    'knn5': 0,\n",
        "    'knn10': 0,\n",
        "    'mlp': 0,\n",
        "    'kmeans': 0\n",
        "} \n",
        "\n",
        "wine_results = {\n",
        "    'tree': 0,\n",
        "    'knn5': 0,\n",
        "    'knn10': 0,\n",
        "    'mlp': 0,\n",
        "    'kmeans': 0\n",
        "} \n",
        "\n",
        "wine_results = {\n",
        "    'tree': 0,\n",
        "    'knn5': 0,\n",
        "    'knn10': 0,\n",
        "    'mlp': 0,\n",
        "    'kmeans': 0\n",
        "} \n",
        "\n",
        "dataset_abalone = pd.read_csv(url_abalone, header=None, names=col_names_abalone)\n",
        "dataset_wine = pd.read_csv(url_wine, header=None, names=col_names_wine)"
      ],
      "execution_count": 0,
      "outputs": []
    },
    {
      "cell_type": "code",
      "metadata": {
        "id": "YsYsIhU4jUTX",
        "colab_type": "code",
        "colab": {}
      },
      "source": [
        "# =========== TREE TESTS ==========\n",
        "\n",
        "# ABALONE\n",
        "x = dataset_abalone[feature_cols_abalone]\n",
        "y = dataset_abalone.label\n",
        "x_train, x_test, y_train, y_test = train_test_split(x, y, test_size=0.2, random_state=None, stratify=y) \n",
        "model = tree.DecisionTreeClassifier(criterion=\"entropy\")\n",
        "model = model.fit(x_train, y_train)\n",
        "acc = metrics.accuracy_score(model.predict(x_test), y_test)\n",
        "abalone_results['tree'] = round(acc * 100)\n",
        "tree.plot_tree(model)\n"
      ],
      "execution_count": 0,
      "outputs": []
    },
    {
      "cell_type": "code",
      "metadata": {
        "id": "7-yy38q4yZ0S",
        "colab_type": "code",
        "colab": {}
      },
      "source": [
        "# WINE\n",
        "x = dataset_wine[feature_cols_wine]\n",
        "y = dataset_wine.label\n",
        "x_train, x_test, y_train, y_test = train_test_split(x, y, test_size=0.2, random_state=None, stratify=y) \n",
        "model = tree.DecisionTreeClassifier(criterion=\"entropy\")\n",
        "model = model.fit(x_train, y_train)\n",
        "acc = metrics.accuracy_score(model.predict(x_test), y_test)\n",
        "wine_results['tree']  = round(acc * 100)\n",
        "tree.plot_tree(model)\n"
      ],
      "execution_count": 0,
      "outputs": []
    },
    {
      "cell_type": "code",
      "metadata": {
        "id": "BB68GUn2yeQa",
        "colab_type": "code",
        "colab": {}
      },
      "source": [
        "# OTHER\n",
        "#x = dataset_wine[feature_cols_wine]\n",
        "#y = dataset_wine.label\n",
        "#x_train, x_test, y_train, y_test = train_test_split(x, y, test_size=0.2, random_state=None, stratify=y) \n",
        "#model = tree.DecisionTreeClassifier(criterion=\"entropy\")\n",
        "#model = model.fit(x_train, y_train)\n",
        "#wine_results['tree']  = round(model_wine.predict(x_test_wine) * 100)\n",
        "#tree.plot_tree(model)"
      ],
      "execution_count": 0,
      "outputs": []
    },
    {
      "cell_type": "code",
      "metadata": {
        "id": "R5u_E9cprKaH",
        "colab_type": "code",
        "colab": {}
      },
      "source": [
        "# =========== KNN TESTS ==========\n",
        "\n",
        "# ABALONE\n",
        "n = 5\n",
        "\n",
        "x = dataset_abalone[feature_cols_abalone]\n",
        "y = dataset_abalone.label\n",
        "x_train, x_test, y_train, y_test = train_test_split(x, y, test_size=0.2, random_state=None, stratify=y) \n",
        "model = KNeighborsClassifier(n_neighbors=n, metric='euclidean', algorithm='brute')\n",
        "model = model.fit(x_train, y_train)\n",
        "result = model.predict(x_test)\n",
        "acc = metrics.accuracy_score(result, y_test)\n",
        "abalone_results['knn5']  = round(acc * 100)\n",
        "\n",
        "n = 10\n",
        "model = KNeighborsClassifier(n_neighbors=n, metric='euclidean', algorithm='brute')\n",
        "model = model.fit(x_train, y_train)\n",
        "result = model.predict(x_test)\n",
        "acc = metrics.accuracy_score(result, y_test)\n",
        "abalone_results['knn10']  = round(acc * 100)\n"
      ],
      "execution_count": 0,
      "outputs": []
    },
    {
      "cell_type": "code",
      "metadata": {
        "id": "08OCGHt_2r3a",
        "colab_type": "code",
        "outputId": "01bc2673-6a44-4b81-d991-8c01a3a708c2",
        "colab": {
          "base_uri": "https://localhost:8080/",
          "height": 34
        }
      },
      "source": [
        "# WINE\n",
        "n = 5\n",
        "\n",
        "x = dataset_wine[feature_cols_wine]\n",
        "y = dataset_wine.label\n",
        "x_train, x_test, y_train, y_test = train_test_split(x, y, test_size=0.2, random_state=None, stratify=y) \n",
        "model = KNeighborsClassifier(n_neighbors=n, metric='euclidean', algorithm='brute')\n",
        "model = model.fit(x_train, y_train)\n",
        "result = model.predict(x_test)\n",
        "acc = metrics.accuracy_score(result, y_test)\n",
        "wine_results['knn5']  = round(acc * 100)\n",
        "\n",
        "n = 10\n",
        "model = KNeighborsClassifier(n_neighbors=n, metric='euclidean', algorithm='brute')\n",
        "model = model.fit(x_train, y_train)\n",
        "result = model.predict(x_test)\n",
        "acc = metrics.accuracy_score(result, y_test)\n",
        "wine_results['knn10']  = round(acc * 100)"
      ],
      "execution_count": 0,
      "outputs": [
        {
          "output_type": "stream",
          "text": [
            "{'tree': 89.0, 'knn5': 64.0, 'knn10': 67.0, 'mlp1': 0, 'mlp2': 0, 'kmeans': 0}\n"
          ],
          "name": "stdout"
        }
      ]
    },
    {
      "cell_type": "code",
      "metadata": {
        "id": "A12QMxAW3rD1",
        "colab_type": "code",
        "colab": {}
      },
      "source": [
        "# OTHER"
      ],
      "execution_count": 0,
      "outputs": []
    },
    {
      "cell_type": "code",
      "metadata": {
        "id": "pPcBBW4Z3t3r",
        "colab_type": "code",
        "outputId": "98ed80c5-72c9-4aa3-bab0-d6951c53d0fb",
        "colab": {
          "base_uri": "https://localhost:8080/",
          "height": 34
        }
      },
      "source": [
        "# =========== MLP TESTS ==========\n",
        "\n",
        "# ABALONE\n",
        "x = dataset_abalone[feature_cols_abalone]\n",
        "y = dataset_abalone.label\n",
        "\n",
        "x_train, x_test, y_train, y_test = train_test_split(x, y, test_size=0.2, random_state=None, stratify=y) \n",
        "\n",
        "model = MLPClassifier(hidden_layer_sizes=(4, 2), activation='tanh',max_iter=2000)\n",
        "model = model.fit(x_train, y_train)\n",
        "result = model.predict(x_test)\n",
        "acc = metrics.accuracy_score(result, y_test)\n",
        "abalone_results['mlp'] = round(acc * 100)\n",
        "print (abalone_results)"
      ],
      "execution_count": 0,
      "outputs": [
        {
          "output_type": "stream",
          "text": [
            "{'tree': 48.0, 'knn5': 51.0, 'knn10': 53.0, 'mlp1': 55.0, 'mlp2': 0, 'kmeans': 0}\n"
          ],
          "name": "stdout"
        }
      ]
    },
    {
      "cell_type": "code",
      "metadata": {
        "id": "Wj1WNvKy6NsK",
        "colab_type": "code",
        "outputId": "413fc136-c82b-471d-cf18-5ce77a0cc387",
        "colab": {
          "base_uri": "https://localhost:8080/",
          "height": 34
        }
      },
      "source": [
        "# WINE\n",
        "x = dataset_wine[feature_cols_wine]\n",
        "y = dataset_wine.label\n",
        "\n",
        "x_train, x_test, y_train, y_test = train_test_split(x, y, test_size=0.2, random_state=None, stratify=y) \n",
        "\n",
        "model = MLPClassifier(hidden_layer_sizes=(10, 5), activation='tanh',max_iter=2000)\n",
        "model = model.fit(x_train, y_train)\n",
        "result = model.predict(x_test)\n",
        "acc = metrics.accuracy_score(result, y_test)\n",
        "wine_results['mlp'] = round(acc * 100)\n",
        "print (wine_results)"
      ],
      "execution_count": 0,
      "outputs": [
        {
          "output_type": "stream",
          "text": [
            "{'tree': 89.0, 'knn5': 64.0, 'knn10': 67.0, 'mlp1': 92.0, 'mlp2': 0, 'kmeans': 0}\n"
          ],
          "name": "stdout"
        }
      ]
    },
    {
      "cell_type": "code",
      "metadata": {
        "id": "E-crvuSD6sKx",
        "colab_type": "code",
        "colab": {}
      },
      "source": [
        "# OTHER"
      ],
      "execution_count": 0,
      "outputs": []
    },
    {
      "cell_type": "code",
      "metadata": {
        "id": "GbXDyVFo6u_i",
        "colab_type": "code",
        "colab": {}
      },
      "source": [
        "# =========== K-MEANS TESTS ==========\n",
        "\n",
        "# ABALONE\n",
        "x = dataset_abalone[feature_cols_abalone]\n",
        "y = dataset_abalone.label\n",
        "\n",
        "x_train, x_test, y_train, y_test = train_test_split(x, y, test_size=0.2, random_state=None, stratify=y) \n",
        "\n"
      ],
      "execution_count": 0,
      "outputs": []
    }
  ]
}